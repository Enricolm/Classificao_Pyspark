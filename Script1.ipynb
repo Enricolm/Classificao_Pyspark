{
 "cells": [
  {
   "cell_type": "code",
   "execution_count": 97,
   "metadata": {},
   "outputs": [],
   "source": [
    "from pyspark.sql import SparkSession\n",
    "import pyspark.sql.functions as f\n",
    "from pyspark.ml.feature import VectorAssembler\n",
    "from pyspark.ml.classification import LogisticRegression,DecisionTreeClassifier,RandomForestClassifier\n",
    "from pyspark.ml.tuning import CrossValidator, ParamGridBuilder"
   ]
  },
  {
   "cell_type": "code",
   "execution_count": 2,
   "metadata": {},
   "outputs": [
    {
     "name": "stderr",
     "output_type": "stream",
     "text": [
      "23/06/27 21:52:48 WARN Utils: Your hostname, enricolm-virtual-machine resolves to a loopback address: 127.0.1.1; using 192.168.233.129 instead (on interface ens33)\n",
      "23/06/27 21:52:48 WARN Utils: Set SPARK_LOCAL_IP if you need to bind to another address\n",
      "Setting default log level to \"WARN\".\n",
      "To adjust logging level use sc.setLogLevel(newLevel). For SparkR, use setLogLevel(newLevel).\n",
      "23/06/27 21:52:49 WARN NativeCodeLoader: Unable to load native-hadoop library for your platform... using builtin-java classes where applicable\n"
     ]
    }
   ],
   "source": [
    "spark = SparkSession.builder.master('local[*]').appName('Classificacao_Spark').getOrCreate()"
   ]
  },
  {
   "cell_type": "code",
   "execution_count": 3,
   "metadata": {},
   "outputs": [],
   "source": [
    "dados = spark.read.csv('/home/enricolm/Documents/Pyspark_classificacao/base de dados/dados_clientes.csv',\n",
    "                    sep = ',',\n",
    "                    inferSchema = True,\n",
    "                    header = True\n",
    "                       )"
   ]
  },
  {
   "cell_type": "code",
   "execution_count": 4,
   "metadata": {},
   "outputs": [
    {
     "name": "stdout",
     "output_type": "stream",
     "text": [
      "+---+-----+----------+-------+-----------+---------------+------------+------------------------+-----------+------------------+------------------+------------------+------------------+------------------+------------------+------------+------------+----------------+-------------+\n",
      "| id|Churn|Mais65anos|Conjuge|Dependentes|MesesDeContrato|TelefoneFixo|MaisDeUmaLinhaTelefonica|   Internet|   SegurancaOnline|      BackupOnline| SeguroDispositivo|    SuporteTecnico|           TVaCabo|   StreamingFilmes|TipoContrato|ContaCorreio| MetodoPagamento|MesesCobrados|\n",
      "+---+-----+----------+-------+-----------+---------------+------------+------------------------+-----------+------------------+------------------+------------------+------------------+------------------+------------------+------------+------------+----------------+-------------+\n",
      "|  0|  Nao|         0|    Sim|        Nao|              1|         Nao|    SemServicoTelefonico|        DSL|               Nao|               Sim|               Nao|               Nao|               Nao|               Nao| Mensalmente|         Sim|BoletoEletronico|        29.85|\n",
      "|  1|  Nao|         0|    Nao|        Nao|             34|         Sim|                     Nao|        DSL|               Sim|               Nao|               Sim|               Nao|               Nao|               Nao|       UmAno|         Nao|          Boleto|        56.95|\n",
      "|  2|  Sim|         0|    Nao|        Nao|              2|         Sim|                     Nao|        DSL|               Sim|               Sim|               Nao|               Nao|               Nao|               Nao| Mensalmente|         Sim|          Boleto|        53.85|\n",
      "|  3|  Nao|         0|    Nao|        Nao|             45|         Nao|    SemServicoTelefonico|        DSL|               Sim|               Nao|               Sim|               Sim|               Nao|               Nao|       UmAno|         Nao|   DebitoEmConta|         42.3|\n",
      "|  4|  Sim|         0|    Nao|        Nao|              2|         Sim|                     Nao|FibraOptica|               Nao|               Nao|               Nao|               Nao|               Nao|               Nao| Mensalmente|         Sim|BoletoEletronico|         70.7|\n",
      "|  5|  Sim|         0|    Nao|        Nao|              8|         Sim|                     Sim|FibraOptica|               Nao|               Nao|               Sim|               Nao|               Sim|               Sim| Mensalmente|         Sim|BoletoEletronico|        99.65|\n",
      "|  6|  Nao|         0|    Nao|        Sim|             22|         Sim|                     Sim|FibraOptica|               Nao|               Sim|               Nao|               Nao|               Sim|               Nao| Mensalmente|         Sim|   CartaoCredito|         89.1|\n",
      "|  7|  Nao|         0|    Nao|        Nao|             10|         Nao|    SemServicoTelefonico|        DSL|               Sim|               Nao|               Nao|               Nao|               Nao|               Nao| Mensalmente|         Nao|          Boleto|        29.75|\n",
      "|  8|  Sim|         0|    Sim|        Nao|             28|         Sim|                     Sim|FibraOptica|               Nao|               Nao|               Sim|               Sim|               Sim|               Sim| Mensalmente|         Sim|BoletoEletronico|        104.8|\n",
      "|  9|  Nao|         0|    Nao|        Sim|             62|         Sim|                     Nao|        DSL|               Sim|               Sim|               Nao|               Nao|               Nao|               Nao|       UmAno|         Nao|   DebitoEmConta|        56.15|\n",
      "| 10|  Nao|         0|    Sim|        Sim|             13|         Sim|                     Nao|        DSL|               Sim|               Nao|               Nao|               Nao|               Nao|               Nao| Mensalmente|         Sim|          Boleto|        49.95|\n",
      "| 11|  Nao|         0|    Nao|        Nao|             16|         Sim|                     Nao|        Nao|SemServicoInternet|SemServicoInternet|SemServicoInternet|SemServicoInternet|SemServicoInternet|SemServicoInternet|    DoisAnos|         Nao|   CartaoCredito|        18.95|\n",
      "| 12|  Nao|         0|    Sim|        Nao|             58|         Sim|                     Sim|FibraOptica|               Nao|               Nao|               Sim|               Nao|               Sim|               Sim|       UmAno|         Nao|   CartaoCredito|       100.35|\n",
      "| 13|  Sim|         0|    Nao|        Nao|             49|         Sim|                     Sim|FibraOptica|               Nao|               Sim|               Sim|               Nao|               Sim|               Sim| Mensalmente|         Sim|   DebitoEmConta|        103.7|\n",
      "| 14|  Nao|         0|    Nao|        Nao|             25|         Sim|                     Nao|FibraOptica|               Sim|               Nao|               Sim|               Sim|               Sim|               Sim| Mensalmente|         Sim|BoletoEletronico|        105.5|\n",
      "| 15|  Nao|         0|    Sim|        Sim|             69|         Sim|                     Sim|FibraOptica|               Sim|               Sim|               Sim|               Sim|               Sim|               Sim|    DoisAnos|         Nao|   CartaoCredito|       113.25|\n",
      "| 16|  Nao|         0|    Nao|        Nao|             52|         Sim|                     Nao|        Nao|SemServicoInternet|SemServicoInternet|SemServicoInternet|SemServicoInternet|SemServicoInternet|SemServicoInternet|       UmAno|         Nao|          Boleto|        20.65|\n",
      "| 17|  Nao|         0|    Nao|        Sim|             71|         Sim|                     Sim|FibraOptica|               Sim|               Nao|               Sim|               Nao|               Sim|               Sim|    DoisAnos|         Nao|   DebitoEmConta|        106.7|\n",
      "| 18|  Sim|         0|    Sim|        Sim|             10|         Sim|                     Nao|        DSL|               Nao|               Nao|               Sim|               Sim|               Nao|               Nao| Mensalmente|         Nao|   CartaoCredito|         55.2|\n",
      "| 19|  Nao|         0|    Nao|        Nao|             21|         Sim|                     Nao|FibraOptica|               Nao|               Sim|               Sim|               Nao|               Nao|               Sim| Mensalmente|         Sim|BoletoEletronico|        90.05|\n",
      "+---+-----+----------+-------+-----------+---------------+------------+------------------------+-----------+------------------+------------------+------------------+------------------+------------------+------------------+------------+------------+----------------+-------------+\n",
      "only showing top 20 rows\n",
      "\n"
     ]
    }
   ],
   "source": [
    "dados.show()"
   ]
  },
  {
   "cell_type": "code",
   "execution_count": 5,
   "metadata": {},
   "outputs": [
    {
     "name": "stdout",
     "output_type": "stream",
     "text": [
      "root\n",
      " |-- id: integer (nullable = true)\n",
      " |-- Churn: string (nullable = true)\n",
      " |-- Mais65anos: integer (nullable = true)\n",
      " |-- Conjuge: string (nullable = true)\n",
      " |-- Dependentes: string (nullable = true)\n",
      " |-- MesesDeContrato: integer (nullable = true)\n",
      " |-- TelefoneFixo: string (nullable = true)\n",
      " |-- MaisDeUmaLinhaTelefonica: string (nullable = true)\n",
      " |-- Internet: string (nullable = true)\n",
      " |-- SegurancaOnline: string (nullable = true)\n",
      " |-- BackupOnline: string (nullable = true)\n",
      " |-- SeguroDispositivo: string (nullable = true)\n",
      " |-- SuporteTecnico: string (nullable = true)\n",
      " |-- TVaCabo: string (nullable = true)\n",
      " |-- StreamingFilmes: string (nullable = true)\n",
      " |-- TipoContrato: string (nullable = true)\n",
      " |-- ContaCorreio: string (nullable = true)\n",
      " |-- MetodoPagamento: string (nullable = true)\n",
      " |-- MesesCobrados: double (nullable = true)\n",
      "\n"
     ]
    }
   ],
   "source": [
    "dados.printSchema()"
   ]
  },
  {
   "cell_type": "code",
   "execution_count": 6,
   "metadata": {},
   "outputs": [
    {
     "name": "stdout",
     "output_type": "stream",
     "text": [
      "+-----+-----+\n",
      "|Churn|count|\n",
      "+-----+-----+\n",
      "|  Sim| 5174|\n",
      "|  Nao| 5174|\n",
      "+-----+-----+\n",
      "\n"
     ]
    }
   ],
   "source": [
    "dados.groupBy('Churn').count().show()"
   ]
  },
  {
   "cell_type": "code",
   "execution_count": 7,
   "metadata": {},
   "outputs": [
    {
     "name": "stdout",
     "output_type": "stream",
     "text": [
      "+---+-----+----------+-------+-----------+---------------+------------+------------------------+-----------+------------------+------------------+------------------+------------------+------------------+------------------+------------+------------+----------------+-------------+\n",
      "| id|Churn|Mais65anos|Conjuge|Dependentes|MesesDeContrato|TelefoneFixo|MaisDeUmaLinhaTelefonica|   Internet|   SegurancaOnline|      BackupOnline| SeguroDispositivo|    SuporteTecnico|           TVaCabo|   StreamingFilmes|TipoContrato|ContaCorreio| MetodoPagamento|MesesCobrados|\n",
      "+---+-----+----------+-------+-----------+---------------+------------+------------------------+-----------+------------------+------------------+------------------+------------------+------------------+------------------+------------+------------+----------------+-------------+\n",
      "|  0|  Nao|         0|      1|        Nao|              1|         Nao|    SemServicoTelefonico|        DSL|               Nao|               Sim|               Nao|               Nao|               Nao|               Nao| Mensalmente|         Sim|BoletoEletronico|        29.85|\n",
      "|  1|  Nao|         0|      0|        Nao|             34|         Sim|                     Nao|        DSL|               Sim|               Nao|               Sim|               Nao|               Nao|               Nao|       UmAno|         Nao|          Boleto|        56.95|\n",
      "|  2|  Sim|         0|      0|        Nao|              2|         Sim|                     Nao|        DSL|               Sim|               Sim|               Nao|               Nao|               Nao|               Nao| Mensalmente|         Sim|          Boleto|        53.85|\n",
      "|  3|  Nao|         0|      0|        Nao|             45|         Nao|    SemServicoTelefonico|        DSL|               Sim|               Nao|               Sim|               Sim|               Nao|               Nao|       UmAno|         Nao|   DebitoEmConta|         42.3|\n",
      "|  4|  Sim|         0|      0|        Nao|              2|         Sim|                     Nao|FibraOptica|               Nao|               Nao|               Nao|               Nao|               Nao|               Nao| Mensalmente|         Sim|BoletoEletronico|         70.7|\n",
      "|  5|  Sim|         0|      0|        Nao|              8|         Sim|                     Sim|FibraOptica|               Nao|               Nao|               Sim|               Nao|               Sim|               Sim| Mensalmente|         Sim|BoletoEletronico|        99.65|\n",
      "|  6|  Nao|         0|      0|        Sim|             22|         Sim|                     Sim|FibraOptica|               Nao|               Sim|               Nao|               Nao|               Sim|               Nao| Mensalmente|         Sim|   CartaoCredito|         89.1|\n",
      "|  7|  Nao|         0|      0|        Nao|             10|         Nao|    SemServicoTelefonico|        DSL|               Sim|               Nao|               Nao|               Nao|               Nao|               Nao| Mensalmente|         Nao|          Boleto|        29.75|\n",
      "|  8|  Sim|         0|      1|        Nao|             28|         Sim|                     Sim|FibraOptica|               Nao|               Nao|               Sim|               Sim|               Sim|               Sim| Mensalmente|         Sim|BoletoEletronico|        104.8|\n",
      "|  9|  Nao|         0|      0|        Sim|             62|         Sim|                     Nao|        DSL|               Sim|               Sim|               Nao|               Nao|               Nao|               Nao|       UmAno|         Nao|   DebitoEmConta|        56.15|\n",
      "| 10|  Nao|         0|      1|        Sim|             13|         Sim|                     Nao|        DSL|               Sim|               Nao|               Nao|               Nao|               Nao|               Nao| Mensalmente|         Sim|          Boleto|        49.95|\n",
      "| 11|  Nao|         0|      0|        Nao|             16|         Sim|                     Nao|        Nao|SemServicoInternet|SemServicoInternet|SemServicoInternet|SemServicoInternet|SemServicoInternet|SemServicoInternet|    DoisAnos|         Nao|   CartaoCredito|        18.95|\n",
      "| 12|  Nao|         0|      1|        Nao|             58|         Sim|                     Sim|FibraOptica|               Nao|               Nao|               Sim|               Nao|               Sim|               Sim|       UmAno|         Nao|   CartaoCredito|       100.35|\n",
      "| 13|  Sim|         0|      0|        Nao|             49|         Sim|                     Sim|FibraOptica|               Nao|               Sim|               Sim|               Nao|               Sim|               Sim| Mensalmente|         Sim|   DebitoEmConta|        103.7|\n",
      "| 14|  Nao|         0|      0|        Nao|             25|         Sim|                     Nao|FibraOptica|               Sim|               Nao|               Sim|               Sim|               Sim|               Sim| Mensalmente|         Sim|BoletoEletronico|        105.5|\n",
      "| 15|  Nao|         0|      1|        Sim|             69|         Sim|                     Sim|FibraOptica|               Sim|               Sim|               Sim|               Sim|               Sim|               Sim|    DoisAnos|         Nao|   CartaoCredito|       113.25|\n",
      "| 16|  Nao|         0|      0|        Nao|             52|         Sim|                     Nao|        Nao|SemServicoInternet|SemServicoInternet|SemServicoInternet|SemServicoInternet|SemServicoInternet|SemServicoInternet|       UmAno|         Nao|          Boleto|        20.65|\n",
      "| 17|  Nao|         0|      0|        Sim|             71|         Sim|                     Sim|FibraOptica|               Sim|               Nao|               Sim|               Nao|               Sim|               Sim|    DoisAnos|         Nao|   DebitoEmConta|        106.7|\n",
      "| 18|  Sim|         0|      1|        Sim|             10|         Sim|                     Nao|        DSL|               Nao|               Nao|               Sim|               Sim|               Nao|               Nao| Mensalmente|         Nao|   CartaoCredito|         55.2|\n",
      "| 19|  Nao|         0|      0|        Nao|             21|         Sim|                     Nao|FibraOptica|               Nao|               Sim|               Sim|               Nao|               Nao|               Sim| Mensalmente|         Sim|BoletoEletronico|        90.05|\n",
      "+---+-----+----------+-------+-----------+---------------+------------+------------------------+-----------+------------------+------------------+------------------+------------------+------------------+------------------+------------+------------+----------------+-------------+\n",
      "only showing top 20 rows\n",
      "\n"
     ]
    }
   ],
   "source": [
    "dados.withColumn('Conjuge',f.when(f.col('Conjuge') == 'Sim', 1).otherwise(0)).show()"
   ]
  },
  {
   "cell_type": "code",
   "execution_count": 8,
   "metadata": {},
   "outputs": [],
   "source": [
    "colunasBinarias = [\n",
    "    'Churn',\n",
    "    'Conjuge',\n",
    "    'Dependentes',\n",
    "    'TelefoneFixo',\n",
    "    'MaisDeUmaLinhaTelefonica',\n",
    "    'SegurancaOnline',\n",
    "    'BackupOnline',\n",
    "    'SeguroDispositivo',\n",
    "    'SuporteTecnico',\n",
    "    'TVaCabo',\n",
    "    'StreamingFilmes',\n",
    "    'ContaCorreio'\n",
    "]"
   ]
  },
  {
   "cell_type": "code",
   "execution_count": 9,
   "metadata": {},
   "outputs": [],
   "source": [
    "dados_transformados = [f.when(f.col(c) == 'Sim',1).otherwise(0).alias(c)for c in colunasBinarias]"
   ]
  },
  {
   "cell_type": "code",
   "execution_count": 10,
   "metadata": {},
   "outputs": [
    {
     "data": {
      "text/plain": [
       "['id',\n",
       " 'Mais65anos',\n",
       " 'MesesDeContrato',\n",
       " 'Internet',\n",
       " 'TipoContrato',\n",
       " 'MetodoPagamento',\n",
       " 'MesesCobrados',\n",
       " Column<'CASE WHEN (Churn = Sim) THEN 1 ELSE 0 END AS Churn'>,\n",
       " Column<'CASE WHEN (Conjuge = Sim) THEN 1 ELSE 0 END AS Conjuge'>,\n",
       " Column<'CASE WHEN (Dependentes = Sim) THEN 1 ELSE 0 END AS Dependentes'>,\n",
       " Column<'CASE WHEN (TelefoneFixo = Sim) THEN 1 ELSE 0 END AS TelefoneFixo'>,\n",
       " Column<'CASE WHEN (MaisDeUmaLinhaTelefonica = Sim) THEN 1 ELSE 0 END AS MaisDeUmaLinhaTelefonica'>,\n",
       " Column<'CASE WHEN (SegurancaOnline = Sim) THEN 1 ELSE 0 END AS SegurancaOnline'>,\n",
       " Column<'CASE WHEN (BackupOnline = Sim) THEN 1 ELSE 0 END AS BackupOnline'>,\n",
       " Column<'CASE WHEN (SeguroDispositivo = Sim) THEN 1 ELSE 0 END AS SeguroDispositivo'>,\n",
       " Column<'CASE WHEN (SuporteTecnico = Sim) THEN 1 ELSE 0 END AS SuporteTecnico'>,\n",
       " Column<'CASE WHEN (TVaCabo = Sim) THEN 1 ELSE 0 END AS TVaCabo'>,\n",
       " Column<'CASE WHEN (StreamingFilmes = Sim) THEN 1 ELSE 0 END AS StreamingFilmes'>,\n",
       " Column<'CASE WHEN (ContaCorreio = Sim) THEN 1 ELSE 0 END AS ContaCorreio'>]"
      ]
     },
     "execution_count": 10,
     "metadata": {},
     "output_type": "execute_result"
    }
   ],
   "source": [
    "for col in reversed(dados.columns):\n",
    "    if col not in colunasBinarias:\n",
    "        dados_transformados.insert(0,col)\n",
    "\n",
    "dados_transformados"
   ]
  },
  {
   "cell_type": "code",
   "execution_count": 11,
   "metadata": {},
   "outputs": [],
   "source": [
    "dados_transformados = dados.select(dados_transformados)"
   ]
  },
  {
   "cell_type": "code",
   "execution_count": 12,
   "metadata": {},
   "outputs": [
    {
     "name": "stdout",
     "output_type": "stream",
     "text": [
      "+---+----------+---------------+-----------+------------+----------------+-------------+-----+-------+-----------+------------+------------------------+---------------+------------+-----------------+--------------+-------+---------------+------------+\n",
      "| id|Mais65anos|MesesDeContrato|   Internet|TipoContrato| MetodoPagamento|MesesCobrados|Churn|Conjuge|Dependentes|TelefoneFixo|MaisDeUmaLinhaTelefonica|SegurancaOnline|BackupOnline|SeguroDispositivo|SuporteTecnico|TVaCabo|StreamingFilmes|ContaCorreio|\n",
      "+---+----------+---------------+-----------+------------+----------------+-------------+-----+-------+-----------+------------+------------------------+---------------+------------+-----------------+--------------+-------+---------------+------------+\n",
      "|  0|         0|              1|        DSL| Mensalmente|BoletoEletronico|        29.85|    0|      1|          0|           0|                       0|              0|           1|                0|             0|      0|              0|           1|\n",
      "|  1|         0|             34|        DSL|       UmAno|          Boleto|        56.95|    0|      0|          0|           1|                       0|              1|           0|                1|             0|      0|              0|           0|\n",
      "|  2|         0|              2|        DSL| Mensalmente|          Boleto|        53.85|    1|      0|          0|           1|                       0|              1|           1|                0|             0|      0|              0|           1|\n",
      "|  3|         0|             45|        DSL|       UmAno|   DebitoEmConta|         42.3|    0|      0|          0|           0|                       0|              1|           0|                1|             1|      0|              0|           0|\n",
      "|  4|         0|              2|FibraOptica| Mensalmente|BoletoEletronico|         70.7|    1|      0|          0|           1|                       0|              0|           0|                0|             0|      0|              0|           1|\n",
      "|  5|         0|              8|FibraOptica| Mensalmente|BoletoEletronico|        99.65|    1|      0|          0|           1|                       1|              0|           0|                1|             0|      1|              1|           1|\n",
      "|  6|         0|             22|FibraOptica| Mensalmente|   CartaoCredito|         89.1|    0|      0|          1|           1|                       1|              0|           1|                0|             0|      1|              0|           1|\n",
      "|  7|         0|             10|        DSL| Mensalmente|          Boleto|        29.75|    0|      0|          0|           0|                       0|              1|           0|                0|             0|      0|              0|           0|\n",
      "|  8|         0|             28|FibraOptica| Mensalmente|BoletoEletronico|        104.8|    1|      1|          0|           1|                       1|              0|           0|                1|             1|      1|              1|           1|\n",
      "|  9|         0|             62|        DSL|       UmAno|   DebitoEmConta|        56.15|    0|      0|          1|           1|                       0|              1|           1|                0|             0|      0|              0|           0|\n",
      "| 10|         0|             13|        DSL| Mensalmente|          Boleto|        49.95|    0|      1|          1|           1|                       0|              1|           0|                0|             0|      0|              0|           1|\n",
      "| 11|         0|             16|        Nao|    DoisAnos|   CartaoCredito|        18.95|    0|      0|          0|           1|                       0|              0|           0|                0|             0|      0|              0|           0|\n",
      "| 12|         0|             58|FibraOptica|       UmAno|   CartaoCredito|       100.35|    0|      1|          0|           1|                       1|              0|           0|                1|             0|      1|              1|           0|\n",
      "| 13|         0|             49|FibraOptica| Mensalmente|   DebitoEmConta|        103.7|    1|      0|          0|           1|                       1|              0|           1|                1|             0|      1|              1|           1|\n",
      "| 14|         0|             25|FibraOptica| Mensalmente|BoletoEletronico|        105.5|    0|      0|          0|           1|                       0|              1|           0|                1|             1|      1|              1|           1|\n",
      "| 15|         0|             69|FibraOptica|    DoisAnos|   CartaoCredito|       113.25|    0|      1|          1|           1|                       1|              1|           1|                1|             1|      1|              1|           0|\n",
      "| 16|         0|             52|        Nao|       UmAno|          Boleto|        20.65|    0|      0|          0|           1|                       0|              0|           0|                0|             0|      0|              0|           0|\n",
      "| 17|         0|             71|FibraOptica|    DoisAnos|   DebitoEmConta|        106.7|    0|      0|          1|           1|                       1|              1|           0|                1|             0|      1|              1|           0|\n",
      "| 18|         0|             10|        DSL| Mensalmente|   CartaoCredito|         55.2|    1|      1|          1|           1|                       0|              0|           0|                1|             1|      0|              0|           0|\n",
      "| 19|         0|             21|FibraOptica| Mensalmente|BoletoEletronico|        90.05|    0|      0|          0|           1|                       0|              0|           1|                1|             0|      0|              1|           1|\n",
      "+---+----------+---------------+-----------+------------+----------------+-------------+-----+-------+-----------+------------+------------------------+---------------+------------+-----------------+--------------+-------+---------------+------------+\n",
      "only showing top 20 rows\n",
      "\n"
     ]
    }
   ],
   "source": [
    "dados_transformados.show()"
   ]
  },
  {
   "cell_type": "code",
   "execution_count": 13,
   "metadata": {},
   "outputs": [
    {
     "name": "stdout",
     "output_type": "stream",
     "text": [
      "root\n",
      " |-- id: integer (nullable = true)\n",
      " |-- Mais65anos: integer (nullable = true)\n",
      " |-- MesesDeContrato: integer (nullable = true)\n",
      " |-- Internet: string (nullable = true)\n",
      " |-- TipoContrato: string (nullable = true)\n",
      " |-- MetodoPagamento: string (nullable = true)\n",
      " |-- MesesCobrados: double (nullable = true)\n",
      " |-- Churn: integer (nullable = false)\n",
      " |-- Conjuge: integer (nullable = false)\n",
      " |-- Dependentes: integer (nullable = false)\n",
      " |-- TelefoneFixo: integer (nullable = false)\n",
      " |-- MaisDeUmaLinhaTelefonica: integer (nullable = false)\n",
      " |-- SegurancaOnline: integer (nullable = false)\n",
      " |-- BackupOnline: integer (nullable = false)\n",
      " |-- SeguroDispositivo: integer (nullable = false)\n",
      " |-- SuporteTecnico: integer (nullable = false)\n",
      " |-- TVaCabo: integer (nullable = false)\n",
      " |-- StreamingFilmes: integer (nullable = false)\n",
      " |-- ContaCorreio: integer (nullable = false)\n",
      "\n"
     ]
    }
   ],
   "source": [
    "dados_transformados.printSchema()"
   ]
  },
  {
   "cell_type": "code",
   "execution_count": 14,
   "metadata": {},
   "outputs": [],
   "source": [
    "internet = dados_transformados.groupBy('id').pivot('Internet').agg(f.lit(1)).na.fill(0)"
   ]
  },
  {
   "cell_type": "code",
   "execution_count": 15,
   "metadata": {},
   "outputs": [],
   "source": [
    "TipoContrato = dados_transformados.groupBy('id').pivot('TipoContrato').agg(f.lit(1)).na.fill(0)"
   ]
  },
  {
   "cell_type": "code",
   "execution_count": 16,
   "metadata": {},
   "outputs": [],
   "source": [
    "MetodoPagamento = dados_transformados.groupBy('id').pivot('MetodoPagamento').agg(f.lit(1)).na.fill(0)"
   ]
  },
  {
   "cell_type": "code",
   "execution_count": 17,
   "metadata": {},
   "outputs": [],
   "source": [
    "dataset = dados_transformados\\\n",
    "    .join(internet, 'id' , how = 'inner')\\\n",
    "    .join(MetodoPagamento, 'id', how = 'inner')\\\n",
    "    .join(TipoContrato,'id' , how = 'inner')\\\n",
    "    .select('*',\n",
    "        f.col('DSL').alias('Internet_DSL'), \n",
    "        f.col('FibraOptica').alias('Internet_FibraOptica'), \n",
    "        f.col('Nao').alias('Internet_Nao'), \n",
    "        f.col('Mensalmente').alias('TipoContrato_Mensalmente'), \n",
    "        f.col('UmAno').alias('TipoContrato_UmAno'), \n",
    "        f.col('DoisAnos').alias('TipoContrato_DoisAnos'), \n",
    "        f.col('DebitoEmConta').alias('MetodoPagamento_DebitoEmConta'), \n",
    "        f.col('CartaoCredito').alias('MetodoPagamento_CartaoCredito'), \n",
    "        f.col('BoletoEletronico').alias('MetodoPagamento_BoletoEletronico'), \n",
    "        f.col('Boleto').alias('MetodoPagamento_Boleto'))\\\n",
    "    .drop(\n",
    "        'Internet', 'TipoContrato', 'MetodoPagamento', 'DSL', \n",
    "        'FibraOptica', 'Nao', 'Mensalmente', 'UmAno', 'DoisAnos', \n",
    "        'DebitoEmConta', 'CartaoCredito', 'BoletoEletronico', 'Boleto'\n",
    "    )"
   ]
  },
  {
   "cell_type": "code",
   "execution_count": 18,
   "metadata": {},
   "outputs": [
    {
     "name": "stderr",
     "output_type": "stream",
     "text": [
      "23/06/27 21:53:00 WARN package: Truncated the string representation of a plan since it was too large. This behavior can be adjusted by setting 'spark.sql.debug.maxToStringFields'.\n"
     ]
    },
    {
     "name": "stdout",
     "output_type": "stream",
     "text": [
      "+----+----------+---------------+-----------------+-----+-------+-----------+------------+------------------------+---------------+------------+-----------------+--------------+-------+---------------+------------+------------+--------------------+------------+------------------------+------------------+---------------------+-----------------------------+-----------------------------+--------------------------------+----------------------+\n",
      "|  id|Mais65anos|MesesDeContrato|    MesesCobrados|Churn|Conjuge|Dependentes|TelefoneFixo|MaisDeUmaLinhaTelefonica|SegurancaOnline|BackupOnline|SeguroDispositivo|SuporteTecnico|TVaCabo|StreamingFilmes|ContaCorreio|Internet_DSL|Internet_FibraOptica|Internet_Nao|TipoContrato_Mensalmente|TipoContrato_UmAno|TipoContrato_DoisAnos|MetodoPagamento_DebitoEmConta|MetodoPagamento_CartaoCredito|MetodoPagamento_BoletoEletronico|MetodoPagamento_Boleto|\n",
      "+----+----------+---------------+-----------------+-----+-------+-----------+------------+------------------------+---------------+------------+-----------------+--------------+-------+---------------+------------+------------+--------------------+------------+------------------------+------------------+---------------------+-----------------------------+-----------------------------+--------------------------------+----------------------+\n",
      "|7982|         0|              1|45.30540797610398|    1|      0|          0|           0|                       0|              0|           0|                0|             0|      1|              1|           1|           1|                   0|           0|                       1|                 0|                    0|                            0|                            0|                               1|                     0|\n",
      "|9465|         0|             60|103.6142230120257|    1|      1|          0|           1|                       1|              0|           1|                1|             0|      1|              1|           1|           0|                   1|           0|                       1|                 0|                    0|                            0|                            0|                               1|                     0|\n",
      "|2122|         0|             12|            75.85|    0|      0|          0|           1|                       1|              0|           0|                0|             1|      1|              1|           1|           1|                   0|           0|                       0|                 1|                    0|                            0|                            0|                               0|                     1|\n",
      "|3997|         0|             69|            61.45|    0|      1|          0|           1|                       0|              0|           1|                0|             0|      0|              1|           1|           1|                   0|           0|                       0|                 0|                    1|                            0|                            1|                               0|                     0|\n",
      "|6654|         0|              7|             86.5|    1|      1|          0|           1|                       1|              0|           0|                0|             0|      1|              0|           1|           0|                   1|           0|                       1|                 0|                    0|                            0|                            0|                               1|                     0|\n",
      "|7880|         0|             14|85.03742670311915|    1|      0|          0|           1|                       1|              0|           0|                0|             0|      0|              1|           1|           0|                   1|           0|                       1|                 0|                    0|                            0|                            0|                               1|                     0|\n",
      "|4519|         0|             57|            109.4|    0|      1|          0|           1|                       1|              0|           1|                1|             1|      1|              1|           1|           0|                   1|           0|                       0|                 1|                    0|                            1|                            0|                               0|                     0|\n",
      "|6466|         0|             18|            74.15|    0|      0|          0|           1|                       1|              0|           0|                0|             0|      0|              0|           0|           0|                   1|           0|                       1|                 0|                    0|                            0|                            0|                               0|                     1|\n",
      "| 496|         0|             28|             60.9|    0|      1|          0|           1|                       0|              1|           1|                0|             1|      0|              0|           0|           1|                   0|           0|                       1|                 0|                    0|                            0|                            0|                               0|                     1|\n",
      "|7833|         0|             46| 80.8824189403559|    1|      1|          0|           1|                       0|              0|           0|                0|             0|      0|              1|           1|           0|                   1|           0|                       1|                 0|                    0|                            0|                            0|                               1|                     0|\n",
      "|1591|         0|             17|             21.1|    0|      0|          0|           1|                       0|              0|           0|                0|             0|      0|              0|           0|           0|                   0|           1|                       1|                 0|                    0|                            0|                            1|                               0|                     0|\n",
      "|2866|         0|             12|             84.6|    0|      0|          0|           1|                       0|              0|           1|                0|             0|      0|              1|           1|           0|                   1|           0|                       1|                 0|                    0|                            0|                            0|                               1|                     0|\n",
      "|8592|         0|              5|82.71735660557214|    1|      1|          0|           1|                       1|              0|           0|                0|             0|      1|              0|           1|           0|                   1|           0|                       1|                 0|                    0|                            0|                            0|                               1|                     0|\n",
      "|1829|         0|              8|            74.85|    0|      0|          0|           1|                       1|              0|           0|                0|             0|      0|              0|           1|           0|                   1|           0|                       1|                 0|                    0|                            0|                            0|                               1|                     0|\n",
      "| 463|         0|              7|             99.8|    1|      0|          0|           1|                       1|              0|           1|                0|             0|      1|              1|           1|           0|                   1|           0|                       1|                 0|                    0|                            0|                            0|                               1|                     0|\n",
      "|4900|         1|             37|             85.7|    1|      1|          0|           1|                       1|              0|           0|                0|             0|      1|              0|           1|           0|                   1|           0|                       1|                 0|                    0|                            0|                            0|                               1|                     0|\n",
      "|4818|         1|             64|             80.3|    0|      1|          0|           1|                       0|              1|           0|                1|             0|      0|              0|           0|           0|                   1|           0|                       0|                 1|                    0|                            0|                            1|                               0|                     0|\n",
      "|7554|         0|              1|50.74303124820026|    1|      0|          0|           1|                       0|              0|           1|                0|             0|      0|              0|           0|           1|                   0|           0|                       1|                 0|                    0|                            0|                            0|                               1|                     0|\n",
      "|1342|         0|              8|             20.0|    0|      0|          0|           1|                       0|              0|           0|                0|             0|      0|              0|           0|           0|                   0|           1|                       0|                 0|                    1|                            0|                            0|                               0|                     1|\n",
      "|5300|         0|              1|            80.05|    1|      1|          1|           1|                       0|              0|           0|                0|             0|      1|              0|           1|           0|                   1|           0|                       1|                 0|                    0|                            0|                            0|                               0|                     1|\n",
      "+----+----------+---------------+-----------------+-----+-------+-----------+------------+------------------------+---------------+------------+-----------------+--------------+-------+---------------+------------+------------+--------------------+------------+------------------------+------------------+---------------------+-----------------------------+-----------------------------+--------------------------------+----------------------+\n",
      "only showing top 20 rows\n",
      "\n"
     ]
    }
   ],
   "source": [
    "dataset.show()"
   ]
  },
  {
   "cell_type": "code",
   "execution_count": 19,
   "metadata": {},
   "outputs": [],
   "source": [
    "dataset = dataset.withColumnRenamed('Churn', 'label')\n",
    "x = dataset.columns\n",
    "x.remove('label')\n",
    "x.remove('id')"
   ]
  },
  {
   "cell_type": "code",
   "execution_count": 20,
   "metadata": {},
   "outputs": [
    {
     "data": {
      "text/plain": [
       "['Mais65anos',\n",
       " 'MesesDeContrato',\n",
       " 'MesesCobrados',\n",
       " 'Conjuge',\n",
       " 'Dependentes',\n",
       " 'TelefoneFixo',\n",
       " 'MaisDeUmaLinhaTelefonica',\n",
       " 'SegurancaOnline',\n",
       " 'BackupOnline',\n",
       " 'SeguroDispositivo',\n",
       " 'SuporteTecnico',\n",
       " 'TVaCabo',\n",
       " 'StreamingFilmes',\n",
       " 'ContaCorreio',\n",
       " 'Internet_DSL',\n",
       " 'Internet_FibraOptica',\n",
       " 'Internet_Nao',\n",
       " 'TipoContrato_Mensalmente',\n",
       " 'TipoContrato_UmAno',\n",
       " 'TipoContrato_DoisAnos',\n",
       " 'MetodoPagamento_DebitoEmConta',\n",
       " 'MetodoPagamento_CartaoCredito',\n",
       " 'MetodoPagamento_BoletoEletronico',\n",
       " 'MetodoPagamento_Boleto']"
      ]
     },
     "execution_count": 20,
     "metadata": {},
     "output_type": "execute_result"
    }
   ],
   "source": [
    "x"
   ]
  },
  {
   "cell_type": "code",
   "execution_count": 21,
   "metadata": {},
   "outputs": [],
   "source": [
    "assembler = VectorAssembler(inputCols=x, outputCol='features')\n",
    "\n",
    "dataset_trans = assembler.transform(dataset).select('features','label')"
   ]
  },
  {
   "cell_type": "code",
   "execution_count": 22,
   "metadata": {},
   "outputs": [
    {
     "name": "stdout",
     "output_type": "stream",
     "text": [
      "+--------------------+-----+\n",
      "|            features|label|\n",
      "+--------------------+-----+\n",
      "|(24,[1,2,11,12,13...|    1|\n",
      "|(24,[1,2,3,5,6,8,...|    1|\n",
      "|(24,[1,2,5,6,10,1...|    0|\n",
      "|(24,[1,2,3,5,8,12...|    0|\n",
      "|(24,[1,2,3,5,6,11...|    1|\n",
      "|(24,[1,2,5,6,12,1...|    1|\n",
      "|(24,[1,2,3,5,6,8,...|    0|\n",
      "|(24,[1,2,5,6,15,1...|    0|\n",
      "|(24,[1,2,3,5,7,8,...|    0|\n",
      "|(24,[1,2,3,5,12,1...|    1|\n",
      "|(24,[1,2,5,16,17,...|    0|\n",
      "|(24,[1,2,5,8,12,1...|    0|\n",
      "|(24,[1,2,3,5,6,11...|    1|\n",
      "|(24,[1,2,5,6,13,1...|    0|\n",
      "|(24,[1,2,5,6,8,11...|    1|\n",
      "|(24,[0,1,2,3,5,6,...|    1|\n",
      "|(24,[0,1,2,3,5,7,...|    0|\n",
      "|(24,[1,2,5,8,14,1...|    1|\n",
      "|(24,[1,2,5,16,19,...|    0|\n",
      "|(24,[1,2,3,4,5,11...|    1|\n",
      "+--------------------+-----+\n",
      "only showing top 20 rows\n",
      "\n"
     ]
    }
   ],
   "source": [
    "dataset_trans.show()"
   ]
  },
  {
   "cell_type": "code",
   "execution_count": 23,
   "metadata": {},
   "outputs": [],
   "source": [
    "train, test = dataset_trans.randomSplit([0.7,0.3])"
   ]
  },
  {
   "cell_type": "code",
   "execution_count": 24,
   "metadata": {},
   "outputs": [
    {
     "name": "stdout",
     "output_type": "stream",
     "text": [
      "+--------------------+-----+\n",
      "|            features|label|\n",
      "+--------------------+-----+\n",
      "|(24,[0,1,2,3,4,5,...|    0|\n",
      "|(24,[0,1,2,3,4,5,...|    0|\n",
      "|(24,[0,1,2,3,4,5,...|    0|\n",
      "|(24,[0,1,2,3,4,5,...|    0|\n",
      "|(24,[0,1,2,3,4,5,...|    0|\n",
      "|(24,[0,1,2,3,4,5,...|    0|\n",
      "|(24,[0,1,2,3,4,5,...|    0|\n",
      "|(24,[0,1,2,3,4,5,...|    1|\n",
      "|(24,[0,1,2,3,4,5,...|    0|\n",
      "|(24,[0,1,2,3,4,5,...|    0|\n",
      "|(24,[0,1,2,3,4,5,...|    0|\n",
      "|(24,[0,1,2,3,4,5,...|    0|\n",
      "|(24,[0,1,2,3,4,5,...|    1|\n",
      "|(24,[0,1,2,3,4,5,...|    0|\n",
      "|(24,[0,1,2,3,4,5,...|    0|\n",
      "|(24,[0,1,2,3,4,5,...|    0|\n",
      "|(24,[0,1,2,3,4,5,...|    0|\n",
      "|(24,[0,1,2,3,4,5,...|    0|\n",
      "|(24,[0,1,2,3,4,5,...|    0|\n",
      "|(24,[0,1,2,3,4,5,...|    0|\n",
      "+--------------------+-----+\n",
      "only showing top 20 rows\n",
      "\n"
     ]
    }
   ],
   "source": [
    "train.show()"
   ]
  },
  {
   "cell_type": "code",
   "execution_count": 25,
   "metadata": {},
   "outputs": [],
   "source": [
    "lr = LogisticRegression()"
   ]
  },
  {
   "cell_type": "code",
   "execution_count": 26,
   "metadata": {},
   "outputs": [
    {
     "name": "stderr",
     "output_type": "stream",
     "text": [
      "23/06/27 21:53:09 WARN InstanceBuilder: Failed to load implementation from:dev.ludovic.netlib.blas.JNIBLAS\n"
     ]
    }
   ],
   "source": [
    "modelo_lr = lr.fit(train)"
   ]
  },
  {
   "cell_type": "code",
   "execution_count": 27,
   "metadata": {},
   "outputs": [],
   "source": [
    "predicao = modelo_lr.transform(test)"
   ]
  },
  {
   "cell_type": "code",
   "execution_count": 28,
   "metadata": {},
   "outputs": [
    {
     "name": "stdout",
     "output_type": "stream",
     "text": [
      "+--------------------+-----+--------------------+--------------------+----------+\n",
      "|            features|label|       rawPrediction|         probability|prediction|\n",
      "+--------------------+-----+--------------------+--------------------+----------+\n",
      "|(24,[0,1,2,3,4,5,...|    0|[3.16513527551650...|[0.95950096892494...|       0.0|\n",
      "|(24,[0,1,2,3,4,5,...|    0|[0.70596100730779...|[0.66950807662079...|       0.0|\n",
      "|(24,[0,1,2,3,4,5,...|    0|[1.07894977365756...|[0.74629518630726...|       0.0|\n",
      "|(24,[0,1,2,3,4,5,...|    0|[0.87574443483475...|[0.70593958792340...|       0.0|\n",
      "|(24,[0,1,2,3,4,5,...|    1|[-0.6669142749928...|[0.33918813020755...|       1.0|\n",
      "|(24,[0,1,2,3,4,5,...|    1|[0.23677920215344...|[0.55891978227388...|       0.0|\n",
      "|(24,[0,1,2,3,4,5,...|    0|[-0.3151355872120...|[0.42186169780287...|       1.0|\n",
      "|(24,[0,1,2,3,4,5,...|    1|[0.39238074110504...|[0.59685568263798...|       0.0|\n",
      "|(24,[0,1,2,3,4,5,...|    0|[-0.0369522623472...|[0.49076298546122...|       1.0|\n",
      "|(24,[0,1,2,3,4,5,...|    0|[0.13966054481881...|[0.53485849483998...|       0.0|\n",
      "|(24,[0,1,2,3,4,5,...|    1|[-0.9863810860810...|[0.27162747322717...|       1.0|\n",
      "|(24,[0,1,2,3,4,5,...|    1|[1.38545586395823...|[0.79986580670578...|       0.0|\n",
      "|(24,[0,1,2,3,4,5,...|    0|[4.37090655584435...|[0.98751799307142...|       0.0|\n",
      "|(24,[0,1,2,3,4,8,...|    0|[0.82043358277814...|[0.69432836994541...|       0.0|\n",
      "|(24,[0,1,2,3,4,11...|    0|[-0.0316314147490...|[0.49209280559465...|       1.0|\n",
      "|(24,[0,1,2,3,5,6,...|    0|[3.12796361890414...|[0.95803159237036...|       0.0|\n",
      "|(24,[0,1,2,3,5,6,...|    0|[1.62570706943770...|[0.83558070130832...|       0.0|\n",
      "|(24,[0,1,2,3,5,6,...|    0|[3.43946383289715...|[0.96891537141813...|       0.0|\n",
      "|(24,[0,1,2,3,5,6,...|    0|[3.29160288337624...|[0.96413961412630...|       0.0|\n",
      "|(24,[0,1,2,3,5,6,...|    0|[1.98143037490982...|[0.87883355832732...|       0.0|\n",
      "+--------------------+-----+--------------------+--------------------+----------+\n",
      "only showing top 20 rows\n",
      "\n"
     ]
    }
   ],
   "source": [
    "predicao.show()"
   ]
  },
  {
   "cell_type": "code",
   "execution_count": 29,
   "metadata": {},
   "outputs": [],
   "source": [
    "valor_predicao = modelo_lr.summary"
   ]
  },
  {
   "cell_type": "code",
   "execution_count": 30,
   "metadata": {},
   "outputs": [
    {
     "name": "stdout",
     "output_type": "stream",
     "text": [
      "Acurácia: 0.785184\n",
      "Precisão: 0.770288\n",
      "Recall: 0.814419\n",
      "F1: 0.791739\n"
     ]
    }
   ],
   "source": [
    "print(\"Acurácia: %f\" % valor_predicao.accuracy)\n",
    "print(\"Precisão: %f\" % valor_predicao.precisionByLabel[1])\n",
    "print(\"Recall: %f\" % valor_predicao.recallByLabel[1])\n",
    "print(\"F1: %f\" % valor_predicao.fMeasureByLabel()[1])"
   ]
  },
  {
   "cell_type": "code",
   "execution_count": 31,
   "metadata": {},
   "outputs": [],
   "source": [
    "import matplotlib.pyplot as plt\n",
    "import numpy as np\n",
    "\n",
    "def plotar_matriz_conclusao(dataset):\n",
    "    \n",
    "    tp = dataset.select('label','prediction').where((f.col('label') == 1) & (f.col('prediction') == 1 )).count()\n",
    "    tn = dataset.select('label','prediction').where((f.col('label') == 0) & (f.col('prediction') == 0 )).count()\n",
    "    fn = dataset.select('label','prediction').where((f.col('label') == 0) & (f.col('prediction') == 1 )).count()\n",
    "    fp = dataset.select('label','prediction').where((f.col('label') == 1) & (f.col('prediction') == 0 )).count()\n",
    "\n",
    "    \n",
    "    # Definir rótulos das classes\n",
    "    labels = ['Negativo', 'Positivo']\n",
    "\n",
    "    # Criar matriz de confusão\n",
    "    matriz = np.array([[tn, fp], [fn, tp]])\n",
    "\n",
    "    # Configurar o gráfico\n",
    "    fig, ax = plt.subplots()\n",
    "    im = ax.imshow(matriz, cmap='Blues')\n",
    "\n",
    "    # Adicionar barra de cores\n",
    "    cbar = ax.figure.colorbar(im, ax=ax)\n",
    "\n",
    "    # Definir ticks e rótulos dos eixos\n",
    "    ax.set_xticks(np.arange(len(labels)))\n",
    "    ax.set_yticks(np.arange(len(labels)))\n",
    "    ax.set_xticklabels(labels)\n",
    "    ax.set_yticklabels(labels)\n",
    "\n",
    "    # Girar os rótulos dos eixos\n",
    "    plt.setp(ax.get_xticklabels(), rotation=45, ha=\"right\", rotation_mode=\"anchor\")\n",
    "\n",
    "    # Adicionar valores na matriz\n",
    "    for i in range(len(labels)):\n",
    "        for j in range(len(labels)):\n",
    "            text = ax.text(j, i, matriz[i, j], ha=\"center\", va=\"center\", color=\"black\")\n",
    "\n",
    "    # Definir título do gráfico\n",
    "    ax.set_title(\"Matriz de Conclusão\")\n",
    "\n",
    "    # Mostrar o gráfico\n",
    "    plt.show()\n"
   ]
  },
  {
   "cell_type": "code",
   "execution_count": null,
   "metadata": {},
   "outputs": [],
   "source": []
  },
  {
   "cell_type": "code",
   "execution_count": 32,
   "metadata": {},
   "outputs": [
    {
     "data": {
      "image/png": "[encoded data removed]",
      "text/plain": [
       "<Figure size 640x480 with 2 Axes>"
      ]
     },
     "metadata": {},
     "output_type": "display_data"
    }
   ],
   "source": [
    "plotar_matriz_conclusao(predicao)"
   ]
  },
  {
   "cell_type": "code",
   "execution_count": 33,
   "metadata": {},
   "outputs": [],
   "source": [
    "dtc = DecisionTreeClassifier()"
   ]
  },
  {
   "cell_type": "code",
   "execution_count": 34,
   "metadata": {},
   "outputs": [],
   "source": [
    "model_tree = dtc.fit(train)"
   ]
  },
  {
   "cell_type": "code",
   "execution_count": 35,
   "metadata": {},
   "outputs": [
    {
     "name": "stdout",
     "output_type": "stream",
     "text": [
      "+--------------------+-----+--------------+--------------------+----------+\n",
      "|            features|label| rawPrediction|         probability|prediction|\n",
      "+--------------------+-----+--------------+--------------------+----------+\n",
      "|(24,[0,1,2,3,4,5,...|    0| [667.0,107.0]|[0.86175710594315...|       0.0|\n",
      "|(24,[0,1,2,3,4,5,...|    0| [667.0,107.0]|[0.86175710594315...|       0.0|\n",
      "|(24,[0,1,2,3,4,5,...|    0|   [29.0,16.0]|[0.64444444444444...|       0.0|\n",
      "|(24,[0,1,2,3,4,5,...|    0| [244.0,211.0]|[0.53626373626373...|       0.0|\n",
      "|(24,[0,1,2,3,4,5,...|    0|[423.0,2130.0]|[0.16568742655699...|       1.0|\n",
      "|(24,[0,1,2,3,4,5,...|    0|[423.0,2130.0]|[0.16568742655699...|       1.0|\n",
      "|(24,[0,1,2,3,4,5,...|    0| [496.0,196.0]|[0.71676300578034...|       0.0|\n",
      "|(24,[0,1,2,3,4,5,...|    1| [244.0,211.0]|[0.53626373626373...|       0.0|\n",
      "|(24,[0,1,2,3,4,5,...|    0|[423.0,2130.0]|[0.16568742655699...|       1.0|\n",
      "|(24,[0,1,2,3,4,5,...|    0| [667.0,107.0]|[0.86175710594315...|       0.0|\n",
      "|(24,[0,1,2,3,4,5,...|    0| [244.0,211.0]|[0.53626373626373...|       0.0|\n",
      "|(24,[0,1,2,3,4,5,...|    0|  [50.0,168.0]|[0.22935779816513...|       1.0|\n",
      "|(24,[0,1,2,3,4,5,...|    1| [244.0,211.0]|[0.53626373626373...|       0.0|\n",
      "|(24,[0,1,2,3,4,5,...|    0|[423.0,2130.0]|[0.16568742655699...|       1.0|\n",
      "|(24,[0,1,2,3,4,5,...|    0| [667.0,107.0]|[0.86175710594315...|       0.0|\n",
      "|(24,[0,1,2,3,4,5,...|    0|  [50.0,168.0]|[0.22935779816513...|       1.0|\n",
      "|(24,[0,1,2,3,4,5,...|    0|  [861.0,23.0]|[0.97398190045248...|       0.0|\n",
      "|(24,[0,1,2,3,4,5,...|    0| [667.0,107.0]|[0.86175710594315...|       0.0|\n",
      "|(24,[0,1,2,3,4,5,...|    0| [496.0,196.0]|[0.71676300578034...|       0.0|\n",
      "|(24,[0,1,2,3,4,5,...|    0|  [861.0,23.0]|[0.97398190045248...|       0.0|\n",
      "+--------------------+-----+--------------+--------------------+----------+\n",
      "only showing top 20 rows\n",
      "\n"
     ]
    }
   ],
   "source": [
    "valor_predicao_dtc = model_tree.transform(train)\n",
    "valor_predicao_dtc.show()"
   ]
  },
  {
   "cell_type": "code",
   "execution_count": 36,
   "metadata": {},
   "outputs": [
    {
     "data": {
      "text/plain": [
       "7276"
      ]
     },
     "execution_count": 36,
     "metadata": {},
     "output_type": "execute_result"
    }
   ],
   "source": [
    "valor_predicao_dtc.count()"
   ]
  },
  {
   "cell_type": "code",
   "execution_count": 37,
   "metadata": {},
   "outputs": [
    {
     "data": {
      "image/png": "[encoded data removed]",
      "text/plain": [
       "<Figure size 640x480 with 2 Axes>"
      ]
     },
     "metadata": {},
     "output_type": "display_data"
    }
   ],
   "source": [
    "plotar_matriz_conclusao(valor_predicao_dtc)"
   ]
  },
  {
   "cell_type": "code",
   "execution_count": 38,
   "metadata": {},
   "outputs": [
    {
     "name": "stdout",
     "output_type": "stream",
     "text": [
      "Acuracia: 0.7897\n"
     ]
    }
   ],
   "source": [
    "from pyspark.ml.evaluation import MulticlassClassificationEvaluator\n",
    "\n",
    "def plot_evaluetor(predicao):\n",
    "    mce = MulticlassClassificationEvaluator()\n",
    "    acurracy = mce.evaluate(predicao,{mce.metricName : 'accuracy'})\n",
    "    print(f'Acuracia: {round(acurracy,4)}')\n",
    "\n",
    "\n",
    "plot_evaluetor(valor_predicao_dtc)"
   ]
  },
  {
   "cell_type": "code",
   "execution_count": 39,
   "metadata": {},
   "outputs": [
    {
     "name": "stdout",
     "output_type": "stream",
     "text": [
      "Acurácia: 0.785184\n"
     ]
    }
   ],
   "source": [
    "print(\"Acurácia: %f\" % valor_predicao.accuracy)"
   ]
  },
  {
   "cell_type": "code",
   "execution_count": 40,
   "metadata": {},
   "outputs": [
    {
     "name": "stdout",
     "output_type": "stream",
     "text": [
      "Acuracia: 0.7865\n"
     ]
    }
   ],
   "source": [
    "valor_teste_dtc = model_tree.transform(test)\n",
    "plot_evaluetor(valor_teste_dtc)"
   ]
  },
  {
   "cell_type": "code",
   "execution_count": 41,
   "metadata": {},
   "outputs": [],
   "source": [
    "rfc = RandomForestClassifier()"
   ]
  },
  {
   "cell_type": "code",
   "execution_count": 42,
   "metadata": {},
   "outputs": [],
   "source": [
    "modelo_rfc = rfc.fit(train)"
   ]
  },
  {
   "cell_type": "code",
   "execution_count": 43,
   "metadata": {},
   "outputs": [],
   "source": [
    "valor_treino_rfc = modelo_rfc.transform(train)\n",
    "valor_test_rfc = modelo_rfc.transform(test)"
   ]
  },
  {
   "cell_type": "code",
   "execution_count": 44,
   "metadata": {},
   "outputs": [
    {
     "name": "stdout",
     "output_type": "stream",
     "text": [
      "+--------------------+-----+--------------------+--------------------+----------+\n",
      "|            features|label|       rawPrediction|         probability|prediction|\n",
      "+--------------------+-----+--------------------+--------------------+----------+\n",
      "|(24,[0,1,2,3,4,5,...|    0|[16.5688865782975...|[0.82844432891487...|       0.0|\n",
      "|(24,[0,1,2,3,4,5,...|    0|[15.6888804779063...|[0.78444402389531...|       0.0|\n",
      "|(24,[0,1,2,3,4,5,...|    0|[8.26366366558474...|[0.41318318327923...|       1.0|\n",
      "|(24,[0,1,2,3,4,5,...|    0|[9.56727184929953...|[0.47836359246497...|       1.0|\n",
      "|(24,[0,1,2,3,4,5,...|    0|[4.79731899483596...|[0.23986594974179...|       1.0|\n",
      "|(24,[0,1,2,3,4,5,...|    0|[4.68022730918751...|[0.23401136545937...|       1.0|\n",
      "|(24,[0,1,2,3,4,5,...|    0|[13.0014144110176...|[0.65007072055088...|       0.0|\n",
      "|(24,[0,1,2,3,4,5,...|    1|[9.33494861697630...|[0.46674743084881...|       1.0|\n",
      "|(24,[0,1,2,3,4,5,...|    0|[4.68022730918751...|[0.23401136545937...|       1.0|\n",
      "|(24,[0,1,2,3,4,5,...|    0|[14.5357875990028...|[0.72678937995014...|       0.0|\n",
      "|(24,[0,1,2,3,4,5,...|    0|[10.0962873756518...|[0.50481436878259...|       0.0|\n",
      "|(24,[0,1,2,3,4,5,...|    0|[6.07987820784205...|[0.30399391039210...|       1.0|\n",
      "|(24,[0,1,2,3,4,5,...|    1|[8.98344421185550...|[0.44917221059277...|       1.0|\n",
      "|(24,[0,1,2,3,4,5,...|    0|[3.44960327819272...|[0.17248016390963...|       1.0|\n",
      "|(24,[0,1,2,3,4,5,...|    0|[14.6410073490597...|[0.73205036745298...|       0.0|\n",
      "|(24,[0,1,2,3,4,5,...|    0|[6.07987820784205...|[0.30399391039210...|       1.0|\n",
      "|(24,[0,1,2,3,4,5,...|    0|[18.0130483772506...|[0.90065241886253...|       0.0|\n",
      "|(24,[0,1,2,3,4,5,...|    0|[16.6868462722893...|[0.83434231361446...|       0.0|\n",
      "|(24,[0,1,2,3,4,5,...|    0|[15.5884443449063...|[0.77942221724531...|       0.0|\n",
      "|(24,[0,1,2,3,4,5,...|    0|[17.4140292246122...|[0.87070146123061...|       0.0|\n",
      "+--------------------+-----+--------------------+--------------------+----------+\n",
      "only showing top 20 rows\n",
      "\n"
     ]
    }
   ],
   "source": [
    "valor_treino_rfc.show()"
   ]
  },
  {
   "cell_type": "code",
   "execution_count": 45,
   "metadata": {},
   "outputs": [
    {
     "name": "stdout",
     "output_type": "stream",
     "text": [
      "Acuracia: 0.7923\n"
     ]
    }
   ],
   "source": [
    "plot_evaluetor(valor_treino_rfc)"
   ]
  },
  {
   "cell_type": "code",
   "execution_count": 46,
   "metadata": {},
   "outputs": [
    {
     "name": "stdout",
     "output_type": "stream",
     "text": [
      "Acuracia: 0.7858\n"
     ]
    }
   ],
   "source": [
    "plot_evaluetor(valor_test_rfc)"
   ]
  },
  {
   "cell_type": "code",
   "execution_count": 47,
   "metadata": {},
   "outputs": [],
   "source": [
    "grid = ParamGridBuilder()\\\n",
    "    .addGrid(dtc.maxDepth,[2,8,16])\\\n",
    "    .addGrid(dtc.maxBins,[10,26,38])\\\n",
    "    .build()\n",
    "\n"
   ]
  },
  {
   "cell_type": "code",
   "execution_count": 48,
   "metadata": {},
   "outputs": [],
   "source": [
    "evaluetor = MulticlassClassificationEvaluator()\n",
    "\n",
    "dtc = CrossValidator(\n",
    "    estimator=dtc,\n",
    "    estimatorParamMaps=grid,\n",
    "    evaluator= evaluetor,\n",
    "    numFolds=3\n",
    ")"
   ]
  },
  {
   "cell_type": "code",
   "execution_count": 49,
   "metadata": {},
   "outputs": [
    {
     "name": "stderr",
     "output_type": "stream",
     "text": [
      "                                                                                ]\r"
     ]
    }
   ],
   "source": [
    "model_tree_cv = dtc.fit(train)"
   ]
  },
  {
   "cell_type": "code",
   "execution_count": 50,
   "metadata": {},
   "outputs": [],
   "source": [
    "predicao_dtc_cv = model_tree_cv.transform(train)"
   ]
  },
  {
   "cell_type": "code",
   "execution_count": 51,
   "metadata": {},
   "outputs": [
    {
     "name": "stdout",
     "output_type": "stream",
     "text": [
      "Acuracia: 0.9531\n"
     ]
    }
   ],
   "source": [
    "plot_evaluetor(predicao_dtc_cv)"
   ]
  },
  {
   "cell_type": "code",
   "execution_count": 52,
   "metadata": {},
   "outputs": [
    {
     "name": "stdout",
     "output_type": "stream",
     "text": [
      "Acuracia: 0.7897\n"
     ]
    }
   ],
   "source": [
    "predicao_dtc_cv_teste = model_tree_cv.transform(test)\n",
    "plot_evaluetor(predicao_dtc_cv_teste)"
   ]
  },
  {
   "cell_type": "code",
   "execution_count": 54,
   "metadata": {},
   "outputs": [],
   "source": [
    "grid = ParamGridBuilder()\\\n",
    "    .addGrid(rfc.maxDepth,[4,8,22])\\\n",
    "    .addGrid(rfc.maxBins,[14,25,36])\\\n",
    "    .addGrid(rfc.numTrees, [10, 20, 50])\\\n",
    "    .build()"
   ]
  },
  {
   "cell_type": "code",
   "execution_count": 55,
   "metadata": {},
   "outputs": [],
   "source": [
    "rfc = CrossValidator(\n",
    "    estimator=rfc,\n",
    "    estimatorParamMaps=grid,\n",
    "    evaluator=evaluetor,\n",
    "    numFolds=3\n",
    ")"
   ]
  },
  {
   "cell_type": "code",
   "execution_count": 56,
   "metadata": {},
   "outputs": [
    {
     "name": "stderr",
     "output_type": "stream",
     "text": [
      "23/06/27 22:03:14 WARN DAGScheduler: Broadcasting large task binary with size 1432.3 KiB\n",
      "23/06/27 22:03:19 WARN DAGScheduler: Broadcasting large task binary with size 1401.0 KiB\n",
      "23/06/27 22:03:24 WARN DAGScheduler: Broadcasting large task binary with size 1428.9 KiB\n",
      "23/06/27 22:03:25 WARN DAGScheduler: Broadcasting large task binary with size 1189.1 KiB\n",
      "23/06/27 22:03:26 WARN DAGScheduler: Broadcasting large task binary with size 1371.6 KiB\n",
      "23/06/27 22:03:26 WARN DAGScheduler: Broadcasting large task binary with size 1514.8 KiB\n",
      "23/06/27 22:03:26 WARN DAGScheduler: Broadcasting large task binary with size 1613.5 KiB\n",
      "23/06/27 22:03:26 WARN DAGScheduler: Broadcasting large task binary with size 1682.2 KiB\n",
      "23/06/27 22:03:26 WARN DAGScheduler: Broadcasting large task binary with size 1728.0 KiB\n",
      "23/06/27 22:03:27 WARN DAGScheduler: Broadcasting large task binary with size 1755.9 KiB\n",
      "23/06/27 22:03:27 WARN DAGScheduler: Broadcasting large task binary with size 1616.0 KiB\n",
      "23/06/27 22:03:27 WARN DAGScheduler: Broadcasting large task binary with size 1472.1 KiB\n",
      "23/06/27 22:03:27 WARN DAGScheduler: Broadcasting large task binary with size 1159.9 KiB\n",
      "23/06/27 22:03:27 WARN DAGScheduler: Broadcasting large task binary with size 1003.9 KiB\n",
      "23/06/27 22:03:29 WARN DAGScheduler: Broadcasting large task binary with size 1335.1 KiB\n",
      "23/06/27 22:03:29 WARN DAGScheduler: Broadcasting large task binary with size 1718.1 KiB\n",
      "23/06/27 22:03:29 WARN DAGScheduler: Broadcasting large task binary with size 2.1 MiB\n",
      "23/06/27 22:03:29 WARN DAGScheduler: Broadcasting large task binary with size 2.4 MiB\n",
      "23/06/27 22:03:30 WARN DAGScheduler: Broadcasting large task binary with size 2.6 MiB\n",
      "23/06/27 22:03:30 WARN DAGScheduler: Broadcasting large task binary with size 2.8 MiB\n",
      "23/06/27 22:03:30 WARN DAGScheduler: Broadcasting large task binary with size 2.9 MiB\n",
      "23/06/27 22:03:31 WARN DAGScheduler: Broadcasting large task binary with size 3.0 MiB\n",
      "23/06/27 22:03:31 WARN DAGScheduler: Broadcasting large task binary with size 3.1 MiB\n",
      "23/06/27 22:03:31 WARN DAGScheduler: Broadcasting large task binary with size 2.7 MiB\n",
      "23/06/27 22:03:31 WARN DAGScheduler: Broadcasting large task binary with size 2.2 MiB\n",
      "23/06/27 22:03:31 WARN DAGScheduler: Broadcasting large task binary with size 1556.3 KiB\n",
      "23/06/27 22:03:32 WARN DAGScheduler: Broadcasting large task binary with size 1101.3 KiB\n",
      "23/06/27 22:03:32 WARN DAGScheduler: Broadcasting large task binary with size 1701.9 KiB\n",
      "23/06/27 22:03:34 WARN DAGScheduler: Broadcasting large task binary with size 1432.3 KiB\n",
      "23/06/27 22:03:34 WARN DAGScheduler: Broadcasting large task binary with size 2.1 MiB\n",
      "23/06/27 22:03:34 WARN DAGScheduler: Broadcasting large task binary with size 2.9 MiB\n",
      "23/06/27 22:03:35 WARN DAGScheduler: Broadcasting large task binary with size 3.8 MiB\n",
      "23/06/27 22:03:36 WARN DAGScheduler: Broadcasting large task binary with size 4.8 MiB\n",
      "23/06/27 22:03:36 WARN DAGScheduler: Broadcasting large task binary with size 5.6 MiB\n",
      "23/06/27 22:03:37 WARN DAGScheduler: Broadcasting large task binary with size 6.3 MiB\n",
      "23/06/27 22:03:38 WARN DAGScheduler: Broadcasting large task binary with size 6.9 MiB\n",
      "23/06/27 22:03:39 WARN DAGScheduler: Broadcasting large task binary with size 7.2 MiB\n",
      "23/06/27 22:03:39 WARN DAGScheduler: Broadcasting large task binary with size 7.4 MiB\n",
      "23/06/27 22:03:40 WARN DAGScheduler: Broadcasting large task binary with size 7.5 MiB\n",
      "23/06/27 22:03:41 WARN DAGScheduler: Broadcasting large task binary with size 7.3 MiB\n",
      "23/06/27 22:03:41 WARN DAGScheduler: Broadcasting large task binary with size 5.7 MiB\n",
      "23/06/27 22:03:41 WARN DAGScheduler: Broadcasting large task binary with size 3.2 MiB\n",
      "23/06/27 22:03:42 WARN DAGScheduler: Broadcasting large task binary with size 1339.7 KiB\n",
      "23/06/27 22:03:42 WARN DAGScheduler: Broadcasting large task binary with size 4.0 MiB\n",
      "23/06/27 22:03:44 WARN DAGScheduler: Broadcasting large task binary with size 1147.9 KiB\n",
      "23/06/27 22:03:44 WARN DAGScheduler: Broadcasting large task binary with size 1319.0 KiB\n",
      "23/06/27 22:03:44 WARN DAGScheduler: Broadcasting large task binary with size 1458.0 KiB\n",
      "23/06/27 22:03:44 WARN DAGScheduler: Broadcasting large task binary with size 1561.4 KiB\n",
      "23/06/27 22:03:44 WARN DAGScheduler: Broadcasting large task binary with size 1633.8 KiB\n",
      "23/06/27 22:03:45 WARN DAGScheduler: Broadcasting large task binary with size 1677.6 KiB\n",
      "23/06/27 22:03:45 WARN DAGScheduler: Broadcasting large task binary with size 1701.4 KiB\n",
      "23/06/27 22:03:45 WARN DAGScheduler: Broadcasting large task binary with size 1572.4 KiB\n",
      "23/06/27 22:03:45 WARN DAGScheduler: Broadcasting large task binary with size 1267.5 KiB\n",
      "23/06/27 22:03:47 WARN DAGScheduler: Broadcasting large task binary with size 1334.0 KiB\n",
      "23/06/27 22:03:47 WARN DAGScheduler: Broadcasting large task binary with size 1731.4 KiB\n",
      "23/06/27 22:03:48 WARN DAGScheduler: Broadcasting large task binary with size 2.1 MiB\n",
      "23/06/27 22:03:48 WARN DAGScheduler: Broadcasting large task binary with size 2.4 MiB\n",
      "23/06/27 22:03:48 WARN DAGScheduler: Broadcasting large task binary with size 2.7 MiB\n",
      "23/06/27 22:03:48 WARN DAGScheduler: Broadcasting large task binary with size 2.9 MiB\n",
      "23/06/27 22:03:49 WARN DAGScheduler: Broadcasting large task binary with size 3.0 MiB\n",
      "23/06/27 22:03:49 WARN DAGScheduler: Broadcasting large task binary with size 3.1 MiB\n",
      "23/06/27 22:03:49 WARN DAGScheduler: Broadcasting large task binary with size 3.1 MiB\n",
      "23/06/27 22:03:50 WARN DAGScheduler: Broadcasting large task binary with size 3.1 MiB\n",
      "23/06/27 22:03:50 WARN DAGScheduler: Broadcasting large task binary with size 2.4 MiB\n",
      "23/06/27 22:03:50 WARN DAGScheduler: Broadcasting large task binary with size 1861.4 KiB\n",
      "23/06/27 22:03:50 WARN DAGScheduler: Broadcasting large task binary with size 1247.4 KiB\n",
      "23/06/27 22:03:50 WARN DAGScheduler: Broadcasting large task binary with size 1774.1 KiB\n",
      "23/06/27 22:03:52 WARN DAGScheduler: Broadcasting large task binary with size 1401.0 KiB\n",
      "23/06/27 22:03:52 WARN DAGScheduler: Broadcasting large task binary with size 2.0 MiB\n",
      "23/06/27 22:03:53 WARN DAGScheduler: Broadcasting large task binary with size 2.8 MiB\n",
      "23/06/27 22:03:53 WARN DAGScheduler: Broadcasting large task binary with size 3.7 MiB\n",
      "23/06/27 22:03:54 WARN DAGScheduler: Broadcasting large task binary with size 4.6 MiB\n",
      "23/06/27 22:03:55 WARN DAGScheduler: Broadcasting large task binary with size 5.5 MiB\n",
      "23/06/27 22:03:55 WARN DAGScheduler: Broadcasting large task binary with size 6.2 MiB\n",
      "23/06/27 22:03:56 WARN DAGScheduler: Broadcasting large task binary with size 6.7 MiB\n",
      "23/06/27 22:03:57 WARN DAGScheduler: Broadcasting large task binary with size 7.1 MiB\n",
      "23/06/27 22:03:57 WARN DAGScheduler: Broadcasting large task binary with size 7.3 MiB\n",
      "23/06/27 22:03:58 WARN DAGScheduler: Broadcasting large task binary with size 7.4 MiB\n",
      "23/06/27 22:03:59 WARN DAGScheduler: Broadcasting large task binary with size 7.5 MiB\n",
      "23/06/27 22:03:59 WARN DAGScheduler: Broadcasting large task binary with size 6.5 MiB\n",
      "23/06/27 22:04:00 WARN DAGScheduler: Broadcasting large task binary with size 5.2 MiB\n",
      "23/06/27 22:04:00 WARN DAGScheduler: Broadcasting large task binary with size 2.3 MiB\n",
      "23/06/27 22:04:01 WARN DAGScheduler: Broadcasting large task binary with size 4.0 MiB\n",
      "23/06/27 22:04:02 WARN DAGScheduler: Broadcasting large task binary with size 1135.9 KiB\n",
      "23/06/27 22:04:02 WARN DAGScheduler: Broadcasting large task binary with size 1313.0 KiB\n",
      "23/06/27 22:04:02 WARN DAGScheduler: Broadcasting large task binary with size 1462.3 KiB\n",
      "23/06/27 22:04:03 WARN DAGScheduler: Broadcasting large task binary with size 1572.7 KiB\n",
      "23/06/27 22:04:03 WARN DAGScheduler: Broadcasting large task binary with size 1645.6 KiB\n",
      "23/06/27 22:04:03 WARN DAGScheduler: Broadcasting large task binary with size 1689.5 KiB\n",
      "23/06/27 22:04:03 WARN DAGScheduler: Broadcasting large task binary with size 1717.5 KiB\n",
      "23/06/27 22:04:03 WARN DAGScheduler: Broadcasting large task binary with size 1736.1 KiB\n",
      "23/06/27 22:04:03 WARN DAGScheduler: Broadcasting large task binary with size 1744.2 KiB\n",
      "23/06/27 22:04:03 WARN DAGScheduler: Broadcasting large task binary with size 1118.1 KiB\n",
      "23/06/27 22:04:04 WARN DAGScheduler: Broadcasting large task binary with size 1013.7 KiB\n",
      "23/06/27 22:04:05 WARN DAGScheduler: Broadcasting large task binary with size 1328.5 KiB\n",
      "23/06/27 22:04:05 WARN DAGScheduler: Broadcasting large task binary with size 1718.9 KiB\n",
      "23/06/27 22:04:05 WARN DAGScheduler: Broadcasting large task binary with size 2.1 MiB\n",
      "23/06/27 22:04:06 WARN DAGScheduler: Broadcasting large task binary with size 2.4 MiB\n",
      "23/06/27 22:04:06 WARN DAGScheduler: Broadcasting large task binary with size 2.7 MiB\n",
      "23/06/27 22:04:06 WARN DAGScheduler: Broadcasting large task binary with size 2.9 MiB\n",
      "23/06/27 22:04:07 WARN DAGScheduler: Broadcasting large task binary with size 3.0 MiB\n",
      "23/06/27 22:04:07 WARN DAGScheduler: Broadcasting large task binary with size 3.0 MiB\n",
      "23/06/27 22:04:07 WARN DAGScheduler: Broadcasting large task binary with size 3.1 MiB\n",
      "23/06/27 22:04:07 WARN DAGScheduler: Broadcasting large task binary with size 3.1 MiB\n",
      "23/06/27 22:04:08 WARN DAGScheduler: Broadcasting large task binary with size 2.3 MiB\n",
      "23/06/27 22:04:08 WARN DAGScheduler: Broadcasting large task binary with size 1735.2 KiB\n",
      "23/06/27 22:04:08 WARN DAGScheduler: Broadcasting large task binary with size 1812.3 KiB\n",
      "23/06/27 22:04:10 WARN DAGScheduler: Broadcasting large task binary with size 1428.9 KiB\n",
      "23/06/27 22:04:10 WARN DAGScheduler: Broadcasting large task binary with size 2.1 MiB\n",
      "23/06/27 22:04:11 WARN DAGScheduler: Broadcasting large task binary with size 2.9 MiB\n",
      "23/06/27 22:04:11 WARN DAGScheduler: Broadcasting large task binary with size 3.8 MiB\n",
      "23/06/27 22:04:12 WARN DAGScheduler: Broadcasting large task binary with size 4.7 MiB\n",
      "23/06/27 22:04:12 WARN DAGScheduler: Broadcasting large task binary with size 5.6 MiB\n",
      "23/06/27 22:04:13 WARN DAGScheduler: Broadcasting large task binary with size 6.3 MiB\n",
      "23/06/27 22:04:14 WARN DAGScheduler: Broadcasting large task binary with size 6.8 MiB\n",
      "23/06/27 22:04:14 WARN DAGScheduler: Broadcasting large task binary with size 7.1 MiB\n",
      "23/06/27 22:04:15 WARN DAGScheduler: Broadcasting large task binary with size 7.4 MiB\n",
      "23/06/27 22:04:16 WARN DAGScheduler: Broadcasting large task binary with size 7.5 MiB\n",
      "23/06/27 22:04:16 WARN DAGScheduler: Broadcasting large task binary with size 7.4 MiB\n",
      "23/06/27 22:04:17 WARN DAGScheduler: Broadcasting large task binary with size 6.0 MiB\n",
      "23/06/27 22:04:17 WARN DAGScheduler: Broadcasting large task binary with size 4.0 MiB\n",
      "23/06/27 22:04:18 WARN DAGScheduler: Broadcasting large task binary with size 2.0 MiB\n",
      "23/06/27 22:04:18 WARN DAGScheduler: Broadcasting large task binary with size 4.1 MiB\n",
      "23/06/27 22:04:47 WARN DAGScheduler: Broadcasting large task binary with size 1445.4 KiB\n",
      "23/06/27 22:04:51 WARN DAGScheduler: Broadcasting large task binary with size 1458.3 KiB\n",
      "23/06/27 22:04:56 WARN DAGScheduler: Broadcasting large task binary with size 1449.1 KiB\n",
      "23/06/27 22:04:58 WARN DAGScheduler: Broadcasting large task binary with size 1191.9 KiB\n",
      "23/06/27 22:04:58 WARN DAGScheduler: Broadcasting large task binary with size 1377.2 KiB\n",
      "23/06/27 22:04:58 WARN DAGScheduler: Broadcasting large task binary with size 1526.0 KiB\n",
      "23/06/27 22:04:58 WARN DAGScheduler: Broadcasting large task binary with size 1630.2 KiB\n",
      "23/06/27 22:04:58 WARN DAGScheduler: Broadcasting large task binary with size 1703.6 KiB\n",
      "23/06/27 22:04:59 WARN DAGScheduler: Broadcasting large task binary with size 1749.4 KiB\n",
      "23/06/27 22:04:59 WARN DAGScheduler: Broadcasting large task binary with size 1777.7 KiB\n",
      "23/06/27 22:04:59 WARN DAGScheduler: Broadcasting large task binary with size 1625.3 KiB\n",
      "23/06/27 22:04:59 WARN DAGScheduler: Broadcasting large task binary with size 1484.6 KiB\n",
      "23/06/27 22:04:59 WARN DAGScheduler: Broadcasting large task binary with size 1172.2 KiB\n",
      "23/06/27 22:04:59 WARN DAGScheduler: Broadcasting large task binary with size 1010.0 KiB\n",
      "23/06/27 22:05:01 WARN DAGScheduler: Broadcasting large task binary with size 1341.3 KiB\n",
      "23/06/27 22:05:01 WARN DAGScheduler: Broadcasting large task binary with size 1748.3 KiB\n",
      "23/06/27 22:05:01 WARN DAGScheduler: Broadcasting large task binary with size 2.1 MiB\n",
      "23/06/27 22:05:01 WARN DAGScheduler: Broadcasting large task binary with size 2.5 MiB\n",
      "23/06/27 22:05:02 WARN DAGScheduler: Broadcasting large task binary with size 2.7 MiB\n",
      "23/06/27 22:05:02 WARN DAGScheduler: Broadcasting large task binary with size 2.9 MiB\n",
      "23/06/27 22:05:02 WARN DAGScheduler: Broadcasting large task binary with size 3.1 MiB\n",
      "23/06/27 22:05:03 WARN DAGScheduler: Broadcasting large task binary with size 3.2 MiB\n",
      "23/06/27 22:05:03 WARN DAGScheduler: Broadcasting large task binary with size 3.2 MiB\n",
      "23/06/27 22:05:03 WARN DAGScheduler: Broadcasting large task binary with size 2.8 MiB\n",
      "23/06/27 22:05:03 WARN DAGScheduler: Broadcasting large task binary with size 2.2 MiB\n",
      "23/06/27 22:05:03 WARN DAGScheduler: Broadcasting large task binary with size 1622.2 KiB\n",
      "23/06/27 22:05:04 WARN DAGScheduler: Broadcasting large task binary with size 1766.7 KiB\n",
      "23/06/27 22:05:05 WARN DAGScheduler: Broadcasting large task binary with size 1445.4 KiB\n",
      "23/06/27 22:05:06 WARN DAGScheduler: Broadcasting large task binary with size 2.1 MiB\n",
      "23/06/27 22:05:06 WARN DAGScheduler: Broadcasting large task binary with size 2.9 MiB\n",
      "23/06/27 22:05:07 WARN DAGScheduler: Broadcasting large task binary with size 3.9 MiB\n",
      "23/06/27 22:05:07 WARN DAGScheduler: Broadcasting large task binary with size 4.9 MiB\n",
      "23/06/27 22:05:08 WARN DAGScheduler: Broadcasting large task binary with size 5.8 MiB\n",
      "23/06/27 22:05:09 WARN DAGScheduler: Broadcasting large task binary with size 6.5 MiB\n",
      "23/06/27 22:05:10 WARN DAGScheduler: Broadcasting large task binary with size 7.1 MiB\n",
      "23/06/27 22:05:10 WARN DAGScheduler: Broadcasting large task binary with size 7.4 MiB\n",
      "23/06/27 22:05:11 WARN DAGScheduler: Broadcasting large task binary with size 7.7 MiB\n",
      "23/06/27 22:05:12 WARN DAGScheduler: Broadcasting large task binary with size 7.8 MiB\n",
      "23/06/27 22:05:12 WARN DAGScheduler: Broadcasting large task binary with size 7.7 MiB\n",
      "23/06/27 22:05:13 WARN DAGScheduler: Broadcasting large task binary with size 7.1 MiB\n",
      "23/06/27 22:05:13 WARN DAGScheduler: Broadcasting large task binary with size 5.2 MiB\n",
      "23/06/27 22:05:14 WARN DAGScheduler: Broadcasting large task binary with size 1937.4 KiB\n",
      "23/06/27 22:05:14 WARN DAGScheduler: Broadcasting large task binary with size 4.0 MiB\n",
      "23/06/27 22:05:16 WARN DAGScheduler: Broadcasting large task binary with size 1159.8 KiB\n",
      "23/06/27 22:05:16 WARN DAGScheduler: Broadcasting large task binary with size 1337.2 KiB\n",
      "23/06/27 22:05:16 WARN DAGScheduler: Broadcasting large task binary with size 1486.0 KiB\n",
      "23/06/27 22:05:16 WARN DAGScheduler: Broadcasting large task binary with size 1596.4 KiB\n",
      "23/06/27 22:05:17 WARN DAGScheduler: Broadcasting large task binary with size 1672.6 KiB\n",
      "23/06/27 22:05:17 WARN DAGScheduler: Broadcasting large task binary with size 1719.8 KiB\n",
      "23/06/27 22:05:17 WARN DAGScheduler: Broadcasting large task binary with size 1749.5 KiB\n",
      "23/06/27 22:05:17 WARN DAGScheduler: Broadcasting large task binary with size 1608.5 KiB\n",
      "23/06/27 22:05:17 WARN DAGScheduler: Broadcasting large task binary with size 1476.9 KiB\n",
      "23/06/27 22:05:18 WARN DAGScheduler: Broadcasting large task binary with size 1023.3 KiB\n",
      "23/06/27 22:05:19 WARN DAGScheduler: Broadcasting large task binary with size 1332.8 KiB\n",
      "23/06/27 22:05:19 WARN DAGScheduler: Broadcasting large task binary with size 1730.1 KiB\n",
      "23/06/27 22:05:19 WARN DAGScheduler: Broadcasting large task binary with size 2.1 MiB\n",
      "23/06/27 22:05:20 WARN DAGScheduler: Broadcasting large task binary with size 2.4 MiB\n",
      "23/06/27 22:05:20 WARN DAGScheduler: Broadcasting large task binary with size 2.7 MiB\n",
      "23/06/27 22:05:20 WARN DAGScheduler: Broadcasting large task binary with size 2.9 MiB\n",
      "23/06/27 22:05:21 WARN DAGScheduler: Broadcasting large task binary with size 3.1 MiB\n",
      "23/06/27 22:05:21 WARN DAGScheduler: Broadcasting large task binary with size 3.2 MiB\n",
      "23/06/27 22:05:21 WARN DAGScheduler: Broadcasting large task binary with size 3.2 MiB\n",
      "23/06/27 22:05:21 WARN DAGScheduler: Broadcasting large task binary with size 3.2 MiB\n",
      "23/06/27 22:05:22 WARN DAGScheduler: Broadcasting large task binary with size 2.7 MiB\n",
      "23/06/27 22:05:22 WARN DAGScheduler: Broadcasting large task binary with size 2.1 MiB\n",
      "23/06/27 22:05:22 WARN DAGScheduler: Broadcasting large task binary with size 1831.1 KiB\n",
      "23/06/27 22:05:24 WARN DAGScheduler: Broadcasting large task binary with size 1458.3 KiB\n",
      "23/06/27 22:05:24 WARN DAGScheduler: Broadcasting large task binary with size 2.1 MiB\n",
      "23/06/27 22:05:25 WARN DAGScheduler: Broadcasting large task binary with size 3.0 MiB\n",
      "23/06/27 22:05:25 WARN DAGScheduler: Broadcasting large task binary with size 3.9 MiB\n",
      "23/06/27 22:05:26 WARN DAGScheduler: Broadcasting large task binary with size 4.9 MiB\n",
      "23/06/27 22:05:27 WARN DAGScheduler: Broadcasting large task binary with size 5.7 MiB\n",
      "23/06/27 22:05:27 WARN DAGScheduler: Broadcasting large task binary with size 6.4 MiB\n",
      "23/06/27 22:05:28 WARN DAGScheduler: Broadcasting large task binary with size 6.9 MiB\n",
      "23/06/27 22:05:29 WARN DAGScheduler: Broadcasting large task binary with size 7.3 MiB\n",
      "23/06/27 22:05:30 WARN DAGScheduler: Broadcasting large task binary with size 7.5 MiB\n",
      "23/06/27 22:05:30 WARN DAGScheduler: Broadcasting large task binary with size 7.6 MiB\n",
      "23/06/27 22:05:31 WARN DAGScheduler: Broadcasting large task binary with size 7.5 MiB\n",
      "23/06/27 22:05:31 WARN DAGScheduler: Broadcasting large task binary with size 6.7 MiB\n",
      "23/06/27 22:05:32 WARN DAGScheduler: Broadcasting large task binary with size 4.8 MiB\n",
      "23/06/27 22:05:32 WARN DAGScheduler: Broadcasting large task binary with size 2.6 MiB\n",
      "23/06/27 22:05:33 WARN DAGScheduler: Broadcasting large task binary with size 4.1 MiB\n",
      "23/06/27 22:05:34 WARN DAGScheduler: Broadcasting large task binary with size 1169.9 KiB\n",
      "23/06/27 22:05:34 WARN DAGScheduler: Broadcasting large task binary with size 1343.7 KiB\n",
      "23/06/27 22:05:34 WARN DAGScheduler: Broadcasting large task binary with size 1490.3 KiB\n",
      "23/06/27 22:05:35 WARN DAGScheduler: Broadcasting large task binary with size 1600.9 KiB\n",
      "23/06/27 22:05:35 WARN DAGScheduler: Broadcasting large task binary with size 1679.7 KiB\n",
      "23/06/27 22:05:35 WARN DAGScheduler: Broadcasting large task binary with size 1727.1 KiB\n",
      "23/06/27 22:05:35 WARN DAGScheduler: Broadcasting large task binary with size 1755.1 KiB\n",
      "23/06/27 22:05:35 WARN DAGScheduler: Broadcasting large task binary with size 1767.9 KiB\n",
      "23/06/27 22:05:35 WARN DAGScheduler: Broadcasting large task binary with size 1456.3 KiB\n",
      "23/06/27 22:05:35 WARN DAGScheduler: Broadcasting large task binary with size 1147.4 KiB\n",
      "23/06/27 22:05:36 WARN DAGScheduler: Broadcasting large task binary with size 1024.4 KiB\n",
      "23/06/27 22:05:37 WARN DAGScheduler: Broadcasting large task binary with size 1336.5 KiB\n",
      "23/06/27 22:05:37 WARN DAGScheduler: Broadcasting large task binary with size 1724.3 KiB\n",
      "23/06/27 22:05:38 WARN DAGScheduler: Broadcasting large task binary with size 2.1 MiB\n",
      "23/06/27 22:05:38 WARN DAGScheduler: Broadcasting large task binary with size 2.4 MiB\n",
      "23/06/27 22:05:38 WARN DAGScheduler: Broadcasting large task binary with size 2.7 MiB\n",
      "23/06/27 22:05:39 WARN DAGScheduler: Broadcasting large task binary with size 2.9 MiB\n",
      "23/06/27 22:05:39 WARN DAGScheduler: Broadcasting large task binary with size 3.0 MiB\n",
      "23/06/27 22:05:39 WARN DAGScheduler: Broadcasting large task binary with size 3.1 MiB\n",
      "23/06/27 22:05:39 WARN DAGScheduler: Broadcasting large task binary with size 3.1 MiB\n",
      "23/06/27 22:05:40 WARN DAGScheduler: Broadcasting large task binary with size 3.0 MiB\n",
      "23/06/27 22:05:40 WARN DAGScheduler: Broadcasting large task binary with size 1883.6 KiB\n",
      "23/06/27 22:05:40 WARN DAGScheduler: Broadcasting large task binary with size 1445.4 KiB\n",
      "23/06/27 22:05:40 WARN DAGScheduler: Broadcasting large task binary with size 1787.0 KiB\n",
      "23/06/27 22:05:42 WARN DAGScheduler: Broadcasting large task binary with size 1449.1 KiB\n",
      "23/06/27 22:05:42 WARN DAGScheduler: Broadcasting large task binary with size 2.1 MiB\n",
      "23/06/27 22:05:43 WARN DAGScheduler: Broadcasting large task binary with size 2.9 MiB\n",
      "23/06/27 22:05:43 WARN DAGScheduler: Broadcasting large task binary with size 3.9 MiB\n",
      "23/06/27 22:05:44 WARN DAGScheduler: Broadcasting large task binary with size 4.9 MiB\n",
      "23/06/27 22:05:45 WARN DAGScheduler: Broadcasting large task binary with size 5.7 MiB\n",
      "23/06/27 22:05:46 WARN DAGScheduler: Broadcasting large task binary with size 6.4 MiB\n",
      "23/06/27 22:05:46 WARN DAGScheduler: Broadcasting large task binary with size 6.9 MiB\n",
      "23/06/27 22:05:47 WARN DAGScheduler: Broadcasting large task binary with size 7.3 MiB\n",
      "23/06/27 22:05:48 WARN DAGScheduler: Broadcasting large task binary with size 7.5 MiB\n",
      "23/06/27 22:05:48 WARN DAGScheduler: Broadcasting large task binary with size 7.6 MiB\n",
      "23/06/27 22:05:49 WARN DAGScheduler: Broadcasting large task binary with size 7.4 MiB\n",
      "23/06/27 22:05:50 WARN DAGScheduler: Broadcasting large task binary with size 6.2 MiB\n",
      "23/06/27 22:05:50 WARN DAGScheduler: Broadcasting large task binary with size 4.1 MiB\n",
      "23/06/27 22:05:50 WARN DAGScheduler: Broadcasting large task binary with size 2.1 MiB\n",
      "23/06/27 22:05:51 WARN DAGScheduler: Broadcasting large task binary with size 4.1 MiB\n",
      "23/06/27 22:06:19 WARN DAGScheduler: Broadcasting large task binary with size 1471.5 KiB\n",
      "23/06/27 22:06:24 WARN DAGScheduler: Broadcasting large task binary with size 1452.7 KiB\n",
      "23/06/27 22:06:28 WARN DAGScheduler: Broadcasting large task binary with size 1449.4 KiB\n",
      "23/06/27 22:06:30 WARN DAGScheduler: Broadcasting large task binary with size 1193.1 KiB\n",
      "23/06/27 22:06:30 WARN DAGScheduler: Broadcasting large task binary with size 1382.4 KiB\n",
      "23/06/27 22:06:30 WARN DAGScheduler: Broadcasting large task binary with size 1535.5 KiB\n",
      "23/06/27 22:06:30 WARN DAGScheduler: Broadcasting large task binary with size 1651.2 KiB\n",
      "23/06/27 22:06:31 WARN DAGScheduler: Broadcasting large task binary with size 1733.6 KiB\n",
      "23/06/27 22:06:31 WARN DAGScheduler: Broadcasting large task binary with size 1785.6 KiB\n",
      "23/06/27 22:06:31 WARN DAGScheduler: Broadcasting large task binary with size 1814.1 KiB\n",
      "23/06/27 22:06:31 WARN DAGScheduler: Broadcasting large task binary with size 1828.1 KiB\n",
      "23/06/27 22:06:31 WARN DAGScheduler: Broadcasting large task binary with size 1524.8 KiB\n",
      "23/06/27 22:06:31 WARN DAGScheduler: Broadcasting large task binary with size 1051.1 KiB\n",
      "23/06/27 22:06:32 WARN DAGScheduler: Broadcasting large task binary with size 1022.1 KiB\n",
      "23/06/27 22:06:33 WARN DAGScheduler: Broadcasting large task binary with size 1348.4 KiB\n",
      "23/06/27 22:06:33 WARN DAGScheduler: Broadcasting large task binary with size 1747.7 KiB\n",
      "23/06/27 22:06:33 WARN DAGScheduler: Broadcasting large task binary with size 2.1 MiB\n",
      "23/06/27 22:06:34 WARN DAGScheduler: Broadcasting large task binary with size 2.5 MiB\n",
      "23/06/27 22:06:34 WARN DAGScheduler: Broadcasting large task binary with size 2.8 MiB\n",
      "23/06/27 22:06:34 WARN DAGScheduler: Broadcasting large task binary with size 3.0 MiB\n",
      "23/06/27 22:06:35 WARN DAGScheduler: Broadcasting large task binary with size 3.1 MiB\n",
      "23/06/27 22:06:35 WARN DAGScheduler: Broadcasting large task binary with size 3.2 MiB\n",
      "23/06/27 22:06:35 WARN DAGScheduler: Broadcasting large task binary with size 3.1 MiB\n",
      "23/06/27 22:06:35 WARN DAGScheduler: Broadcasting large task binary with size 2.9 MiB\n",
      "23/06/27 22:06:36 WARN DAGScheduler: Broadcasting large task binary with size 2.7 MiB\n",
      "23/06/27 22:06:36 WARN DAGScheduler: Broadcasting large task binary with size 1186.3 KiB\n",
      "23/06/27 22:06:36 WARN DAGScheduler: Broadcasting large task binary with size 1798.5 KiB\n",
      "23/06/27 22:06:38 WARN DAGScheduler: Broadcasting large task binary with size 1471.5 KiB\n",
      "23/06/27 22:06:38 WARN DAGScheduler: Broadcasting large task binary with size 2.1 MiB\n",
      "23/06/27 22:06:39 WARN DAGScheduler: Broadcasting large task binary with size 3.0 MiB\n",
      "23/06/27 22:06:39 WARN DAGScheduler: Broadcasting large task binary with size 4.0 MiB\n",
      "23/06/27 22:06:40 WARN DAGScheduler: Broadcasting large task binary with size 5.0 MiB\n",
      "23/06/27 22:06:41 WARN DAGScheduler: Broadcasting large task binary with size 5.9 MiB\n",
      "23/06/27 22:06:41 WARN DAGScheduler: Broadcasting large task binary with size 6.7 MiB\n",
      "23/06/27 22:06:42 WARN DAGScheduler: Broadcasting large task binary with size 7.3 MiB\n",
      "23/06/27 22:06:43 WARN DAGScheduler: Broadcasting large task binary with size 7.7 MiB\n",
      "23/06/27 22:06:44 WARN DAGScheduler: Broadcasting large task binary with size 7.9 MiB\n",
      "23/06/27 22:06:44 WARN DAGScheduler: Broadcasting large task binary with size 7.9 MiB\n",
      "23/06/27 22:06:45 WARN DAGScheduler: Broadcasting large task binary with size 7.5 MiB\n",
      "23/06/27 22:06:46 WARN DAGScheduler: Broadcasting large task binary with size 6.6 MiB\n",
      "23/06/27 22:06:46 WARN DAGScheduler: Broadcasting large task binary with size 4.2 MiB\n",
      "23/06/27 22:06:46 WARN DAGScheduler: Broadcasting large task binary with size 2.3 MiB\n",
      "23/06/27 22:06:47 WARN DAGScheduler: Broadcasting large task binary with size 4.2 MiB\n",
      "23/06/27 22:06:48 WARN DAGScheduler: Broadcasting large task binary with size 1185.2 KiB\n",
      "23/06/27 22:06:49 WARN DAGScheduler: Broadcasting large task binary with size 1369.4 KiB\n",
      "23/06/27 22:06:49 WARN DAGScheduler: Broadcasting large task binary with size 1516.5 KiB\n",
      "23/06/27 22:06:49 WARN DAGScheduler: Broadcasting large task binary with size 1625.2 KiB\n",
      "23/06/27 22:06:49 WARN DAGScheduler: Broadcasting large task binary with size 1703.0 KiB\n",
      "23/06/27 22:06:49 WARN DAGScheduler: Broadcasting large task binary with size 1748.2 KiB\n",
      "23/06/27 22:06:49 WARN DAGScheduler: Broadcasting large task binary with size 1770.4 KiB\n",
      "23/06/27 22:06:50 WARN DAGScheduler: Broadcasting large task binary with size 1779.9 KiB\n",
      "23/06/27 22:06:50 WARN DAGScheduler: Broadcasting large task binary with size 1622.8 KiB\n",
      "23/06/27 22:06:50 WARN DAGScheduler: Broadcasting large task binary with size 1152.3 KiB\n",
      "23/06/27 22:06:50 WARN DAGScheduler: Broadcasting large task binary with size 1025.1 KiB\n",
      "23/06/27 22:06:52 WARN DAGScheduler: Broadcasting large task binary with size 1336.5 KiB\n",
      "23/06/27 22:06:52 WARN DAGScheduler: Broadcasting large task binary with size 1717.8 KiB\n",
      "23/06/27 22:06:52 WARN DAGScheduler: Broadcasting large task binary with size 2.1 MiB\n",
      "23/06/27 22:06:52 WARN DAGScheduler: Broadcasting large task binary with size 2.4 MiB\n",
      "23/06/27 22:06:53 WARN DAGScheduler: Broadcasting large task binary with size 2.7 MiB\n",
      "23/06/27 22:06:53 WARN DAGScheduler: Broadcasting large task binary with size 3.0 MiB\n",
      "23/06/27 22:06:53 WARN DAGScheduler: Broadcasting large task binary with size 3.1 MiB\n",
      "23/06/27 22:06:53 WARN DAGScheduler: Broadcasting large task binary with size 3.2 MiB\n",
      "23/06/27 22:06:54 WARN DAGScheduler: Broadcasting large task binary with size 3.3 MiB\n",
      "23/06/27 22:06:54 WARN DAGScheduler: Broadcasting large task binary with size 3.0 MiB\n",
      "23/06/27 22:06:54 WARN DAGScheduler: Broadcasting large task binary with size 2.4 MiB\n",
      "23/06/27 22:06:54 WARN DAGScheduler: Broadcasting large task binary with size 1811.1 KiB\n",
      "23/06/27 22:06:55 WARN DAGScheduler: Broadcasting large task binary with size 1847.6 KiB\n",
      "23/06/27 22:06:56 WARN DAGScheduler: Broadcasting large task binary with size 1452.7 KiB\n",
      "23/06/27 22:06:57 WARN DAGScheduler: Broadcasting large task binary with size 2.1 MiB\n",
      "23/06/27 22:06:57 WARN DAGScheduler: Broadcasting large task binary with size 2.9 MiB\n",
      "23/06/27 22:06:58 WARN DAGScheduler: Broadcasting large task binary with size 3.9 MiB\n",
      "23/06/27 22:06:59 WARN DAGScheduler: Broadcasting large task binary with size 4.8 MiB\n",
      "23/06/27 22:06:59 WARN DAGScheduler: Broadcasting large task binary with size 5.7 MiB\n",
      "23/06/27 22:07:00 WARN DAGScheduler: Broadcasting large task binary with size 6.5 MiB\n",
      "23/06/27 22:07:01 WARN DAGScheduler: Broadcasting large task binary with size 7.0 MiB\n",
      "23/06/27 22:07:01 WARN DAGScheduler: Broadcasting large task binary with size 7.4 MiB\n",
      "23/06/27 22:07:02 WARN DAGScheduler: Broadcasting large task binary with size 7.6 MiB\n",
      "23/06/27 22:07:03 WARN DAGScheduler: Broadcasting large task binary with size 7.8 MiB\n",
      "23/06/27 22:07:04 WARN DAGScheduler: Broadcasting large task binary with size 7.4 MiB\n",
      "23/06/27 22:07:04 WARN DAGScheduler: Broadcasting large task binary with size 6.5 MiB\n",
      "23/06/27 22:07:05 WARN DAGScheduler: Broadcasting large task binary with size 4.1 MiB\n",
      "23/06/27 22:07:05 WARN DAGScheduler: Broadcasting large task binary with size 1986.0 KiB\n",
      "23/06/27 22:07:06 WARN DAGScheduler: Broadcasting large task binary with size 4.1 MiB\n",
      "23/06/27 22:07:07 WARN DAGScheduler: Broadcasting large task binary with size 1163.3 KiB\n",
      "23/06/27 22:07:07 WARN DAGScheduler: Broadcasting large task binary with size 1343.4 KiB\n",
      "23/06/27 22:07:07 WARN DAGScheduler: Broadcasting large task binary with size 1486.5 KiB\n",
      "23/06/27 22:07:08 WARN DAGScheduler: Broadcasting large task binary with size 1593.9 KiB\n",
      "23/06/27 22:07:08 WARN DAGScheduler: Broadcasting large task binary with size 1676.4 KiB\n",
      "23/06/27 22:07:08 WARN DAGScheduler: Broadcasting large task binary with size 1727.1 KiB\n",
      "23/06/27 22:07:08 WARN DAGScheduler: Broadcasting large task binary with size 1754.2 KiB\n",
      "23/06/27 22:07:08 WARN DAGScheduler: Broadcasting large task binary with size 1616.1 KiB\n",
      "23/06/27 22:07:08 WARN DAGScheduler: Broadcasting large task binary with size 1148.5 KiB\n",
      "23/06/27 22:07:08 WARN DAGScheduler: Broadcasting large task binary with size 1007.6 KiB\n",
      "23/06/27 22:07:09 WARN DAGScheduler: Broadcasting large task binary with size 1025.6 KiB\n",
      "23/06/27 22:07:10 WARN DAGScheduler: Broadcasting large task binary with size 1336.7 KiB\n",
      "23/06/27 22:07:10 WARN DAGScheduler: Broadcasting large task binary with size 1739.2 KiB\n",
      "23/06/27 22:07:11 WARN DAGScheduler: Broadcasting large task binary with size 2.1 MiB\n",
      "23/06/27 22:07:11 WARN DAGScheduler: Broadcasting large task binary with size 2.4 MiB\n",
      "23/06/27 22:07:11 WARN DAGScheduler: Broadcasting large task binary with size 2.7 MiB\n",
      "23/06/27 22:07:12 WARN DAGScheduler: Broadcasting large task binary with size 2.9 MiB\n",
      "23/06/27 22:07:12 WARN DAGScheduler: Broadcasting large task binary with size 3.1 MiB\n",
      "23/06/27 22:07:12 WARN DAGScheduler: Broadcasting large task binary with size 3.2 MiB\n",
      "23/06/27 22:07:12 WARN DAGScheduler: Broadcasting large task binary with size 3.1 MiB\n",
      "23/06/27 22:07:13 WARN DAGScheduler: Broadcasting large task binary with size 3.1 MiB\n",
      "23/06/27 22:07:13 WARN DAGScheduler: Broadcasting large task binary with size 2.5 MiB\n",
      "23/06/27 22:07:13 WARN DAGScheduler: Broadcasting large task binary with size 2.1 MiB\n",
      "23/06/27 22:07:13 WARN DAGScheduler: Broadcasting large task binary with size 1692.7 KiB\n",
      "23/06/27 22:07:14 WARN DAGScheduler: Broadcasting large task binary with size 1844.3 KiB\n",
      "23/06/27 22:07:15 WARN DAGScheduler: Broadcasting large task binary with size 1449.4 KiB\n",
      "23/06/27 22:07:16 WARN DAGScheduler: Broadcasting large task binary with size 2.1 MiB\n",
      "23/06/27 22:07:16 WARN DAGScheduler: Broadcasting large task binary with size 2.9 MiB\n",
      "23/06/27 22:07:17 WARN DAGScheduler: Broadcasting large task binary with size 3.9 MiB\n",
      "23/06/27 22:07:17 WARN DAGScheduler: Broadcasting large task binary with size 4.9 MiB\n",
      "23/06/27 22:07:18 WARN DAGScheduler: Broadcasting large task binary with size 5.8 MiB\n",
      "23/06/27 22:07:19 WARN DAGScheduler: Broadcasting large task binary with size 6.5 MiB\n",
      "23/06/27 22:07:20 WARN DAGScheduler: Broadcasting large task binary with size 7.1 MiB\n",
      "23/06/27 22:07:20 WARN DAGScheduler: Broadcasting large task binary with size 7.4 MiB\n",
      "23/06/27 22:07:21 WARN DAGScheduler: Broadcasting large task binary with size 7.7 MiB\n",
      "23/06/27 22:07:22 WARN DAGScheduler: Broadcasting large task binary with size 7.8 MiB\n",
      "23/06/27 22:07:23 WARN DAGScheduler: Broadcasting large task binary with size 7.6 MiB\n",
      "23/06/27 22:07:23 WARN DAGScheduler: Broadcasting large task binary with size 6.7 MiB\n",
      "23/06/27 22:07:24 WARN DAGScheduler: Broadcasting large task binary with size 4.3 MiB\n",
      "23/06/27 22:07:24 WARN DAGScheduler: Broadcasting large task binary with size 3.5 MiB\n",
      "23/06/27 22:07:25 WARN DAGScheduler: Broadcasting large task binary with size 4.2 MiB\n",
      "23/06/27 22:07:28 WARN DAGScheduler: Broadcasting large task binary with size 1488.8 KiB\n",
      "23/06/27 22:07:29 WARN DAGScheduler: Broadcasting large task binary with size 2.2 MiB\n",
      "23/06/27 22:07:29 WARN DAGScheduler: Broadcasting large task binary with size 3.2 MiB\n",
      "23/06/27 22:07:30 WARN DAGScheduler: Broadcasting large task binary with size 4.4 MiB\n",
      "23/06/27 22:07:31 WARN DAGScheduler: Broadcasting large task binary with size 5.7 MiB\n",
      "23/06/27 22:07:32 WARN DAGScheduler: Broadcasting large task binary with size 6.9 MiB\n",
      "23/06/27 22:07:33 WARN DAGScheduler: Broadcasting large task binary with size 8.0 MiB\n",
      "23/06/27 22:07:34 WARN DAGScheduler: Broadcasting large task binary with size 8.9 MiB\n",
      "23/06/27 22:07:35 WARN DAGScheduler: Broadcasting large task binary with size 9.6 MiB\n",
      "23/06/27 22:07:36 WARN DAGScheduler: Broadcasting large task binary with size 10.0 MiB\n",
      "23/06/27 22:07:37 WARN DAGScheduler: Broadcasting large task binary with size 10.3 MiB\n",
      "23/06/27 22:07:38 WARN DAGScheduler: Broadcasting large task binary with size 10.4 MiB\n",
      "23/06/27 22:07:39 WARN DAGScheduler: Broadcasting large task binary with size 10.3 MiB\n",
      "23/06/27 22:07:40 WARN DAGScheduler: Broadcasting large task binary with size 8.9 MiB\n",
      "23/06/27 22:07:40 WARN DAGScheduler: Broadcasting large task binary with size 6.3 MiB\n"
     ]
    }
   ],
   "source": [
    "model_rfc = rfc.fit(train)"
   ]
  },
  {
   "cell_type": "code",
   "execution_count": 57,
   "metadata": {},
   "outputs": [],
   "source": [
    "predicao_rfc_cv = modelo_rfc.transform(test)"
   ]
  },
  {
   "cell_type": "code",
   "execution_count": 58,
   "metadata": {},
   "outputs": [
    {
     "data": {
      "text/plain": [
       "<bound method DataFrame.summary of DataFrame[features: vector, label: int, rawPrediction: vector, probability: vector, prediction: double]>"
      ]
     },
     "execution_count": 58,
     "metadata": {},
     "output_type": "execute_result"
    }
   ],
   "source": [
    "predicao_rfc_cv.summary"
   ]
  },
  {
   "cell_type": "code",
   "execution_count": 59,
   "metadata": {},
   "outputs": [
    {
     "name": "stdout",
     "output_type": "stream",
     "text": [
      "Acuracia: 0.7858\n"
     ]
    }
   ],
   "source": [
    "plot_evaluetor(predicao_rfc_cv)"
   ]
  },
  {
   "cell_type": "code",
   "execution_count": 69,
   "metadata": {},
   "outputs": [],
   "source": [
    "teste_melhor_rfc_cv = model_rfc.bestModel"
   ]
  },
  {
   "cell_type": "code",
   "execution_count": 70,
   "metadata": {},
   "outputs": [
    {
     "data": {
      "text/plain": [
       "22"
      ]
     },
     "execution_count": 70,
     "metadata": {},
     "output_type": "execute_result"
    }
   ],
   "source": [
    "teste_melhor_rfc_cv.getMaxDepth()"
   ]
  },
  {
   "cell_type": "code",
   "execution_count": 71,
   "metadata": {},
   "outputs": [
    {
     "data": {
      "text/plain": [
       "36"
      ]
     },
     "execution_count": 71,
     "metadata": {},
     "output_type": "execute_result"
    }
   ],
   "source": [
    "teste_melhor_rfc_cv.getMaxBins()"
   ]
  },
  {
   "cell_type": "code",
   "execution_count": 72,
   "metadata": {},
   "outputs": [
    {
     "data": {
      "text/plain": [
       "50"
      ]
     },
     "execution_count": 72,
     "metadata": {},
     "output_type": "execute_result"
    }
   ],
   "source": [
    "teste_melhor_rfc_cv.getNumTrees"
   ]
  },
  {
   "cell_type": "code",
   "execution_count": 73,
   "metadata": {},
   "outputs": [],
   "source": [
    "rfc_best = RandomForestClassifier(maxDepth=22,maxBins=36,numTrees=50)"
   ]
  },
  {
   "cell_type": "code",
   "execution_count": 74,
   "metadata": {},
   "outputs": [
    {
     "name": "stderr",
     "output_type": "stream",
     "text": [
      "23/06/27 22:21:35 WARN DAGScheduler: Broadcasting large task binary with size 1488.8 KiB\n",
      "23/06/27 22:21:35 WARN DAGScheduler: Broadcasting large task binary with size 2.2 MiB\n",
      "23/06/27 22:21:36 WARN DAGScheduler: Broadcasting large task binary with size 3.2 MiB\n",
      "23/06/27 22:21:37 WARN DAGScheduler: Broadcasting large task binary with size 4.4 MiB\n",
      "23/06/27 22:21:38 WARN DAGScheduler: Broadcasting large task binary with size 5.7 MiB\n",
      "23/06/27 22:21:39 WARN DAGScheduler: Broadcasting large task binary with size 6.9 MiB\n",
      "23/06/27 22:21:40 WARN DAGScheduler: Broadcasting large task binary with size 8.0 MiB\n",
      "23/06/27 22:21:41 WARN DAGScheduler: Broadcasting large task binary with size 8.9 MiB\n",
      "23/06/27 22:21:42 WARN DAGScheduler: Broadcasting large task binary with size 9.6 MiB\n",
      "23/06/27 22:21:43 WARN DAGScheduler: Broadcasting large task binary with size 10.0 MiB\n",
      "23/06/27 22:21:44 WARN DAGScheduler: Broadcasting large task binary with size 10.3 MiB\n",
      "23/06/27 22:21:46 WARN DAGScheduler: Broadcasting large task binary with size 10.4 MiB\n",
      "23/06/27 22:21:47 WARN DAGScheduler: Broadcasting large task binary with size 10.3 MiB\n",
      "23/06/27 22:21:47 WARN DAGScheduler: Broadcasting large task binary with size 8.9 MiB\n",
      "23/06/27 22:21:48 WARN DAGScheduler: Broadcasting large task binary with size 6.3 MiB\n"
     ]
    }
   ],
   "source": [
    "model_rfc_best = rfc_best.fit(train)"
   ]
  },
  {
   "cell_type": "code",
   "execution_count": 75,
   "metadata": {},
   "outputs": [],
   "source": [
    "predicao_rfc_best = model_rfc_best.transform(test)"
   ]
  },
  {
   "cell_type": "code",
   "execution_count": 77,
   "metadata": {},
   "outputs": [
    {
     "name": "stderr",
     "output_type": "stream",
     "text": [
      "23/06/27 22:22:32 WARN DAGScheduler: Broadcasting large task binary with size 5.4 MiB\n"
     ]
    },
    {
     "name": "stdout",
     "output_type": "stream",
     "text": [
      "Acuracia: 0.8317\n"
     ]
    }
   ],
   "source": [
    "plot_evaluetor(predicao_rfc_best)"
   ]
  },
  {
   "cell_type": "code",
   "execution_count": 78,
   "metadata": {},
   "outputs": [],
   "source": [
    "novo_cliente = [{\n",
    "    'Mais65anos': 0,\n",
    "    'MesesDeContrato': 1,\n",
    "    'MesesCobrados': 45.30540797610398,\n",
    "    'Conjuge': 0,\n",
    "    'Dependentes': 0,\n",
    "    'TelefoneFixo': 0,\n",
    "    'MaisDeUmaLinhaTelefonica': 0,\n",
    "    'SegurancaOnline': 0,\n",
    "    'BackupOnline': 0,\n",
    "    'SeguroDispositivo': 0,\n",
    "    'SuporteTecnico': 0,\n",
    "    'TVaCabo': 1,\n",
    "    'StreamingFilmes': 1,\n",
    "    'ContaCorreio': 1,\n",
    "    'Internet_DSL': 1,\n",
    "    'Internet_FibraOptica': 0,\n",
    "    'Internet_Nao': 0,\n",
    "    'TipoContrato_Mensalmente': 1,\n",
    "    'TipoContrato_UmAno': 0,\n",
    "    'TipoContrato_DoisAnos': 0,\n",
    "    'MetodoPagamento_DebitoEmConta': 0,\n",
    "    'MetodoPagamento_CartaoCredito': 0,\n",
    "    'MetodoPagamento_BoletoEletronico': 1,\n",
    "    'MetodoPagamento_Boleto': 0\n",
    "}]"
   ]
  },
  {
   "cell_type": "code",
   "execution_count": 79,
   "metadata": {},
   "outputs": [],
   "source": [
    "novo_cliente_dataset = spark.createDataFrame(novo_cliente)"
   ]
  },
  {
   "cell_type": "code",
   "execution_count": 81,
   "metadata": {},
   "outputs": [
    {
     "name": "stderr",
     "output_type": "stream",
     "text": [
      "[Stage 4760:>                                                       (0 + 1) / 1]\r"
     ]
    },
    {
     "name": "stdout",
     "output_type": "stream",
     "text": [
      "+------------+-------+------------+-----------+------------+--------------------+------------+----------+------------------------+-----------------+---------------+----------------------+--------------------------------+-----------------------------+-----------------------------+---------------+-----------------+---------------+--------------+-------+------------+---------------------+------------------------+------------------+\n",
      "|BackupOnline|Conjuge|ContaCorreio|Dependentes|Internet_DSL|Internet_FibraOptica|Internet_Nao|Mais65anos|MaisDeUmaLinhaTelefonica|    MesesCobrados|MesesDeContrato|MetodoPagamento_Boleto|MetodoPagamento_BoletoEletronico|MetodoPagamento_CartaoCredito|MetodoPagamento_DebitoEmConta|SegurancaOnline|SeguroDispositivo|StreamingFilmes|SuporteTecnico|TVaCabo|TelefoneFixo|TipoContrato_DoisAnos|TipoContrato_Mensalmente|TipoContrato_UmAno|\n",
      "+------------+-------+------------+-----------+------------+--------------------+------------+----------+------------------------+-----------------+---------------+----------------------+--------------------------------+-----------------------------+-----------------------------+---------------+-----------------+---------------+--------------+-------+------------+---------------------+------------------------+------------------+\n",
      "|           0|      0|           1|          0|           1|                   0|           0|         0|                       0|45.30540797610398|              1|                     0|                               1|                            0|                            0|              0|                0|              1|             0|      1|           0|                    0|                       1|                 0|\n",
      "+------------+-------+------------+-----------+------------+--------------------+------------+----------+------------------------+-----------------+---------------+----------------------+--------------------------------+-----------------------------+-----------------------------+---------------+-----------------+---------------+--------------+-------+------------+---------------------+------------------------+------------------+\n",
      "\n"
     ]
    },
    {
     "name": "stderr",
     "output_type": "stream",
     "text": [
      "                                                                                \r"
     ]
    }
   ],
   "source": [
    "novo_cliente_dataset.show()"
   ]
  },
  {
   "cell_type": "code",
   "execution_count": 84,
   "metadata": {},
   "outputs": [],
   "source": [
    "novo_assembler= assembler.transform(novo_cliente_dataset).select('features')"
   ]
  },
  {
   "cell_type": "code",
   "execution_count": 85,
   "metadata": {},
   "outputs": [
    {
     "name": "stdout",
     "output_type": "stream",
     "text": [
      "+--------------------+\n",
      "|            features|\n",
      "+--------------------+\n",
      "|(24,[1,2,11,12,13...|\n",
      "+--------------------+\n",
      "\n"
     ]
    }
   ],
   "source": [
    "novo_assembler.show()"
   ]
  },
  {
   "cell_type": "code",
   "execution_count": 87,
   "metadata": {},
   "outputs": [],
   "source": [
    "valor_final = model_rfc_best.transform(novo_assembler)"
   ]
  },
  {
   "cell_type": "code",
   "execution_count": 90,
   "metadata": {},
   "outputs": [
    {
     "name": "stderr",
     "output_type": "stream",
     "text": [
      "23/06/27 22:37:10 WARN DAGScheduler: Broadcasting large task binary with size 5.3 MiB\n",
      "23/06/27 22:37:10 WARN DAGScheduler: Broadcasting large task binary with size 5.3 MiB\n"
     ]
    },
    {
     "name": "stdout",
     "output_type": "stream",
     "text": [
      "+--------------------+--------------------+--------------------+----------+\n",
      "|            features|       rawPrediction|         probability|prediction|\n",
      "+--------------------+--------------------+--------------------+----------+\n",
      "|(24,[1,2,11,12,13...|[1.96892459683983...|[0.03937849193679...|       1.0|\n",
      "+--------------------+--------------------+--------------------+----------+\n",
      "\n"
     ]
    }
   ],
   "source": [
    "valor_final.show()"
   ]
  }
 ],
 "metadata": {
  "kernelspec": {
   "display_name": "venv",
   "language": "python",
   "name": "python3"
  },
  "language_info": {
   "codemirror_mode": {
    "name": "ipython",
    "version": 3
   },
   "file_extension": ".py",
   "mimetype": "text/x-python",
   "name": "python",
   "nbconvert_exporter": "python",
   "pygments_lexer": "ipython3",
   "version": "3.8.10"
  },
  "orig_nbformat": 4
 },
 "nbformat": 4,
 "nbformat_minor": 2
}
